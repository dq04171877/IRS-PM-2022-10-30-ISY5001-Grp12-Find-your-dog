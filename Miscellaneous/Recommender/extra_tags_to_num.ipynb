{
 "cells": [
  {
   "cell_type": "code",
   "execution_count": 5,
   "id": "f3712671",
   "metadata": {},
   "outputs": [],
   "source": [
    "import pandas as pd\n",
    "from pandas import DataFrame"
   ]
  },
  {
   "cell_type": "code",
   "execution_count": 6,
   "id": "a5ad76df",
   "metadata": {},
   "outputs": [],
   "source": [
    "tags = pd.read_csv('extra_tags_new.csv')"
   ]
  },
  {
   "cell_type": "code",
   "execution_count": 7,
   "id": "fdebc6e1",
   "metadata": {},
   "outputs": [],
   "source": [
    "for index in range(len(tags['Tag 3 (with Kids)'])):\n",
    "    if pd.isnull(tags.loc[index]['Tag 3 (with Kids)']):\n",
    "        tags.loc[index]['Tag 3 (with Kids)'] = 0\n",
    "    if tags.loc[index]['Tag 3 (with Kids)'] ==  'Good with kids' or tags.loc[index]['Tag 3 (with Kids)'] == 'Unknown':\n",
    "        tags.loc[index]['Tag 3 (with Kids)'] = 0\n",
    "    if tags.loc[index]['Tag 3 (with Kids)'] ==  'Bad with kids':\n",
    "        tags.loc[index]['Tag 3 (with Kids)'] = 1\n",
    "\n",
    "for index in range(len(tags['Tag 4 (with Elderly)'])):\n",
    "    if pd.isnull(tags.loc[index]['Tag 4 (with Elderly)']):\n",
    "        tags.loc[index]['Tag 4 (with Elderly)'] = 0\n",
    "    if tags.loc[index]['Tag 4 (with Elderly)'] ==  'Good with elderly' or tags.loc[index]['Tag 4 (with Elderly)'] == 'Unknown':\n",
    "        tags.loc[index]['Tag 4 (with Elderly)'] = 0\n",
    "    if tags.loc[index]['Tag 4 (with Elderly)'] ==  'Bad with elderly':\n",
    "        tags.loc[index]['Tag 4 (with Elderly)'] = 1\n",
    "        \n",
    "for index in range(len(tags['Tag 5 (with other dogs)'])):\n",
    "    if pd.isnull(tags.loc[index]['Tag 5 (with other dogs)']):\n",
    "        tags.loc[index]['Tag 5 (with other dogs)'] = 0\n",
    "    if tags.loc[index]['Tag 5 (with other dogs)'] ==  'Good with other dogs' or tags.loc[index]['Tag 5 (with other dogs)'] == 'Unknown':\n",
    "        tags.loc[index]['Tag 5 (with other dogs)'] = 0\n",
    "    if tags.loc[index]['Tag 5 (with other dogs)'] ==  'Bad with other dogs':\n",
    "        tags.loc[index]['Tag 5 (with other dogs)'] = 1\n",
    "        \n",
    "for index in range(len(tags['Tag 6 (Medical condition)'])):\n",
    "    if pd.isnull(tags.loc[index]['Tag 6 (Medical condition)']):\n",
    "        tags.loc[index]['Tag 6 (Medical condition)'] = 0\n",
    "    if tags.loc[index]['Tag 6 (Medical condition)'] ==  'No' or tags.loc[index]['Tag 6 (Medical condition)'] == 'Unknown':\n",
    "        tags.loc[index]['Tag 6 (Medical condition)'] = 0\n",
    "    if tags.loc[index]['Tag 6 (Medical condition)'] ==  'Yes':\n",
    "        tags.loc[index]['Tag 6 (Medical condition)'] = 1   \n",
    "        \n",
    "for index in range(len(tags['Tag 7 (Requires experience)'])):\n",
    "    if pd.isnull(tags.loc[index]['Tag 7 (Requires experience)']):\n",
    "        tags.loc[index]['Tag 7 (Requires experience)'] = 0\n",
    "    if tags.loc[index]['Tag 7 (Requires experience)'] ==  'No' or tags.loc[index]['Tag 7 (Requires experience)'] == 'Unknown':\n",
    "        tags.loc[index]['Tag 7 (Requires experience)'] = 0\n",
    "    if tags.loc[index]['Tag 7 (Requires experience)'] ==  'Yes':\n",
    "        tags.loc[index]['Tag 7 (Requires experience)'] = 1  \n",
    "        \n",
    "for index in range(len(tags['Tag 8 (Grills required)'])):\n",
    "    if pd.isnull(tags.loc[index]['Tag 8 (Grills required)']):\n",
    "        tags.loc[index]['Tag 8 (Grills required)'] = 0\n",
    "    if tags.loc[index]['Tag 8 (Grills required)'] ==  'No' or tags.loc[index]['Tag 8 (Grills required)'] == 'Unknown':\n",
    "        tags.loc[index]['Tag 8 (Grills required)'] = 0\n",
    "    if tags.loc[index]['Tag 8 (Grills required)'] ==  'Yes':\n",
    "        tags.loc[index]['Tag 8 (Grills required)'] = 1  "
   ]
  },
  {
   "cell_type": "code",
   "execution_count": 8,
   "id": "fefb3eca",
   "metadata": {},
   "outputs": [],
   "source": [
    "tags.to_csv('extra_tags_numerical_new.csv')"
   ]
  }
 ],
 "metadata": {
  "kernelspec": {
   "display_name": "py38gpu",
   "language": "python",
   "name": "py38gpu"
  },
  "language_info": {
   "codemirror_mode": {
    "name": "ipython",
    "version": 3
   },
   "file_extension": ".py",
   "mimetype": "text/x-python",
   "name": "python",
   "nbconvert_exporter": "python",
   "pygments_lexer": "ipython3",
   "version": "3.8.13"
  }
 },
 "nbformat": 4,
 "nbformat_minor": 5
}
