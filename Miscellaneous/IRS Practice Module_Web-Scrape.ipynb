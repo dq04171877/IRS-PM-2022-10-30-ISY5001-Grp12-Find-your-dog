{
 "cells": [
  {
   "cell_type": "code",
   "execution_count": 6,
   "id": "5e1488ec",
   "metadata": {},
   "outputs": [
    {
     "name": "stdout",
     "output_type": "stream",
     "text": [
      "Requirement already satisfied: beautifulsoup4 in /home/jonathan/anaconda3/lib/python3.9/site-packages (4.11.1)\r\n",
      "Requirement already satisfied: soupsieve>1.2 in /home/jonathan/anaconda3/lib/python3.9/site-packages (from beautifulsoup4) (2.3.1)\r\n"
     ]
    }
   ],
   "source": [
    "# !pip install selenium\n",
    "# !pip install beautifulsoup4"
   ]
  },
  {
   "cell_type": "code",
   "execution_count": 1,
   "id": "a95588f4",
   "metadata": {},
   "outputs": [],
   "source": [
    "from selenium import webdriver\n",
    "from bs4 import BeautifulSoup\n",
    "import pandas as pd\n",
    "import re"
   ]
  },
  {
   "cell_type": "code",
   "execution_count": 4,
   "id": "78a36f2a",
   "metadata": {},
   "outputs": [],
   "source": [
    "def driver_function(url):\n",
    "    driver = webdriver.Chrome(\"/usr/local/share/chromedriver\")\n",
    "    driver.get(url)\n",
    "    content = driver.page_source\n",
    "    driver.quit()\n",
    "    return content"
   ]
  },
  {
   "cell_type": "code",
   "execution_count": 5,
   "id": "ce51104e",
   "metadata": {},
   "outputs": [
    {
     "name": "stderr",
     "output_type": "stream",
     "text": [
      "/tmp/ipykernel_3025/1116036059.py:2: DeprecationWarning: executable_path has been deprecated, please pass in a Service object\n",
      "  driver = webdriver.Chrome(\"/usr/local/share/chromedriver\")\n"
     ]
    },
    {
     "name": "stdout",
     "output_type": "stream",
     "text": [
      "['https://sosd.org.sg/wpcproduct/benji/?form=adopt', 'https://sosd.org.sg/wpcproduct/buddy/?form=adopt', 'https://sosd.org.sg/wpcproduct/cadbury/?form=adopt', 'https://sosd.org.sg/wpcproduct/carter/?form=adopt', 'https://sosd.org.sg/wpcproduct/cody/?form=adopt', 'https://sosd.org.sg/wpcproduct/cooper/?form=adopt', 'https://sosd.org.sg/wpcproduct/damien/?form=adopt', 'https://sosd.org.sg/wpcproduct/debra/?form=adopt', 'https://sosd.org.sg/wpcproduct/dusty/?form=adopt', 'https://sosd.org.sg/wpcproduct/eli/?form=adopt', 'https://sosd.org.sg/wpcproduct/godiva/?form=adopt', 'https://sosd.org.sg/wpcproduct/hooch/?form=adopt', 'https://sosd.org.sg/wpcproduct/jacky/?form=adopt', 'https://sosd.org.sg/wpcproduct/jerry/?form=adopt', 'https://sosd.org.sg/wpcproduct/kaiser/?form=adopt', 'https://sosd.org.sg/wpcproduct/kiki/?form=adopt', 'https://sosd.org.sg/wpcproduct/koko/?form=adopt', 'https://sosd.org.sg/wpcproduct/latte/?form=adopt', 'https://sosd.org.sg/wpcproduct/libby/?form=adopt', 'https://sosd.org.sg/wpcproduct/logan/?form=adopt', 'https://sosd.org.sg/wpcproduct/lonnie/?form=adopt', 'https://sosd.org.sg/wpcproduct/lotus/?form=adopt', 'https://sosd.org.sg/wpcproduct/lucki/?form=adopt', 'https://sosd.org.sg/wpcproduct/manny/?form=adopt', 'https://sosd.org.sg/wpcproduct/marsh/?form=adopt', 'https://sosd.org.sg/wpcproduct/maximus/?form=adopt', 'https://sosd.org.sg/wpcproduct/miru/?form=adopt', 'https://sosd.org.sg/wpcproduct/muddy/?form=adopt', 'https://sosd.org.sg/wpcproduct/nana/?form=adopt', 'https://sosd.org.sg/wpcproduct/nasi/?form=adopt', 'https://sosd.org.sg/wpcproduct/patrick/?form=adopt', 'https://sosd.org.sg/wpcproduct/penny/?form=adopt', 'https://sosd.org.sg/wpcproduct/popeye/?form=adopt', 'https://sosd.org.sg/wpcproduct/sherlock/?form=adopt', 'https://sosd.org.sg/wpcproduct/shiro/?form=adopt', 'https://sosd.org.sg/wpcproduct/sj/?form=adopt', 'https://sosd.org.sg/wpcproduct/sneezy/?form=adopt', 'https://sosd.org.sg/wpcproduct/suki/?form=adopt', 'https://sosd.org.sg/wpcproduct/tally/?form=adopt', 'https://sosd.org.sg/wpcproduct/tami/?form=adopt', 'https://sosd.org.sg/wpcproduct/uncle/?form=adopt', 'https://sosd.org.sg/wpcproduct/vicki/?form=adopt', 'https://sosd.org.sg/wpcproduct/watson/?form=adopt', 'https://sosd.org.sg/wpcproduct/wiley/?form=adopt', 'https://sosd.org.sg/wpcproduct/zane/?form=adopt']\n"
     ]
    }
   ],
   "source": [
    "adoption_links = []\n",
    "for i in range(1,5):\n",
    "    url = f\"https://sosd.org.sg/adopt-a-dog/{i}/?dog&gender&hdb\"\n",
    "    soup = BeautifulSoup(driver_function(url), 'html.parser')\n",
    "    \n",
    "    links = soup.findAll('a')\n",
    "    for link in links:\n",
    "        result = link.get('href')\n",
    "        if \"wpcproduct\" in result and result not in adoption_links:\n",
    "            adoption_links.append(result)\n",
    "\n",
    "print(adoption_links)\n",
    "    "
   ]
  },
  {
   "cell_type": "code",
   "execution_count": 42,
   "id": "82b2773a",
   "metadata": {},
   "outputs": [
    {
     "name": "stderr",
     "output_type": "stream",
     "text": [
      "/tmp/ipykernel_3025/1116036059.py:2: DeprecationWarning: executable_path has been deprecated, please pass in a Service object\n",
      "  driver = webdriver.Chrome(\"/usr/local/share/chromedriver\")\n"
     ]
    },
    {
     "name": "stdout",
     "output_type": "stream",
     "text": [
      "['Benji', 'Buddy']\n",
      "['Male', 'Male']\n",
      "['1 Apr 2011', '7 Sep 2016']\n",
      "['You want to take me out for a walk? If you do, you would be my favourite hooman. 😊Hi, I’m Benji! I love going for walks, anytime, any day. It’s my favourite thing to do. Once I hear or see you taking the leash out, I would do a little twirly whirly dance with my helicopter tail going at 200km/h.I’m a good boi and I understand simple commands like sit, come and wait. I know good manners come with nice rewards. You know what to do right? Treats are my friends of course.Be patient with me, I get spooked easily and am wary of people if they raise their voice or shout, even dramatic hand gestures or postures. I might growl because I’m scared. If you can assure me everything is OK, I’ll calm down rather quickly too.I think I am 10 years old, but, age is just a number you know. I will always like tummy rubs, hugs, cuddles, sitting on your lap if you let me. Get me a bone and I’ll be happily carrying it around in the house. I never want you to leave me alone, I might whine a bit but it just shows how much I love your attention.So after reading this, do you want to take me out for a walk? If you do, please tell the SOSD folks here so that we can arrange a speed dating session for us soon. Adopter Sign Up Formp.s. If you are curious about where I got handsome look from, I’m a Jack Russel cross with Miniature Pinscher.(Side note: thanks for your interest in Benji! On a serious note, Benji has a bite history and will need a firm owner who is willing to train him to be a good canine citizen. He also has Separation Anxiety and cannot be left at home alone currently, so his potential adopter must also be ready for this. Due to his aggression, he will NOT be suitable in households with young children. Please only write in for Benji if you feel you are able to manage his issues! Thanks again!', 'Buddy is very new to us at shelter, but we can tell he will be a sweet boy when he warms up! With the current COVID situation, we hope to be able to have enough volunteers coming regularly to spend time with him to get him more comfortable with us, so that we can start looking for a suitable adopter for him when he’s able to go start going for walks outside!']\n"
     ]
    }
   ],
   "source": [
    "dog_adoption_org = []\n",
    "dog_adopt_link = []\n",
    "dog_names = []\n",
    "dog_gender = []\n",
    "dog_dob_est = []\n",
    "dog_personality = []\n",
    "\n",
    "for adoption_link in adoption_links:\n",
    "    soup = BeautifulSoup(driver_function(adoption_link))\n",
    "    data_extract = soup.findAll('div', href=False, attrs={'class':\"entry-content\"})\n",
    "    html_removed = re.sub(r'<.*?>', '', str(data_extract))\n",
    "    html_removed = html_removed.replace(\"\\n\",\"\")\n",
    "    html_removed = html_removed.replace(\"[\",\"\")\n",
    "    html_removed = html_removed.replace(\"]\",\"\")\n",
    "\n",
    "    #Organisation data\n",
    "    dog_adoption_org.append(\"SOSD\")\n",
    "    dog_adopt_link.append(adoption_link)\n",
    "    \n",
    "    #Name data\n",
    "    if \"Sponsored\" in html_removed:\n",
    "        name = html_removed[:html_removed.index(\"Sponsored\")]\n",
    "        dog_names.append(name)\n",
    "\n",
    "    else:\n",
    "        name = html_removed[:html_removed.index(\"Be my sponsor\")]\n",
    "        dog_names.append(name)\n",
    "        \n",
    "    #Gender data\n",
    "    gender_data = html_removed[html_removed.index(\"Gender\")+8:html_removed.index(\"HDB\")]\n",
    "    dog_gender.append(gender_data)\n",
    "\n",
    "    #DOB data\n",
    "    dob_data = html_removed[html_removed.index(\"Estimated\")+15:html_removed.index(\"Personality\")]\n",
    "    dog_dob_est.append(dob_data)\n",
    "\n",
    "    #Personality data\n",
    "    personality_data = html_removed[html_removed.index(\"Personality\")+13:html_removed.index(\"If you are keen to share your home and love with\")]\n",
    "    dog_personality.append(personality_data)\n",
    "\n",
    "print(dog_names[:2])\n",
    "print(dog_gender[:2])\n",
    "print(dog_dob_est[:2])\n",
    "print(dog_personality[:2])"
   ]
  },
  {
   "cell_type": "code",
   "execution_count": 43,
   "id": "2077b86d",
   "metadata": {},
   "outputs": [
    {
     "data": {
      "text/plain": [
       "45"
      ]
     },
     "execution_count": 43,
     "metadata": {},
     "output_type": "execute_result"
    }
   ],
   "source": [
    "len(dog_personality)"
   ]
  },
  {
   "cell_type": "code",
   "execution_count": 44,
   "id": "452edef1",
   "metadata": {},
   "outputs": [],
   "source": [
    "df = pd.DataFrame({'Organisation':dog_adoption_org,'Link':dog_adopt_link,'Name':dog_names,'Gender':dog_gender,'Estimated DOB':dog_dob_est,\"Personality\":dog_personality}) \n",
    "df.to_excel('Dogs_SOSD.xlsx', index=False)"
   ]
  },
  {
   "cell_type": "code",
   "execution_count": null,
   "id": "c20bceb5",
   "metadata": {},
   "outputs": [],
   "source": []
  }
 ],
 "metadata": {
  "kernelspec": {
   "display_name": "Python 3 (ipykernel)",
   "language": "python",
   "name": "python3"
  },
  "language_info": {
   "codemirror_mode": {
    "name": "ipython",
    "version": 3
   },
   "file_extension": ".py",
   "mimetype": "text/x-python",
   "name": "python",
   "nbconvert_exporter": "python",
   "pygments_lexer": "ipython3",
   "version": "3.9.12"
  }
 },
 "nbformat": 4,
 "nbformat_minor": 5
}
