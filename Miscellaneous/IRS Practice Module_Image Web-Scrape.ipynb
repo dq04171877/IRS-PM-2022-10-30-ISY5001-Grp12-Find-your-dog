{
 "cells": [
  {
   "cell_type": "code",
   "execution_count": 108,
   "id": "fd0b2110",
   "metadata": {},
   "outputs": [],
   "source": [
    "from selenium import webdriver\n",
    "from bs4 import BeautifulSoup\n",
    "import pandas as pd\n",
    "import requests\n",
    "import urllib\n",
    "import re\n",
    "import os\n",
    "import json"
   ]
  },
  {
   "cell_type": "code",
   "execution_count": 2,
   "id": "24b272be",
   "metadata": {},
   "outputs": [],
   "source": [
    "def driver_function(url):\n",
    "    driver = webdriver.Chrome(\"/usr/local/share/chromedriver\")\n",
    "    driver.get(url)\n",
    "    content = driver.page_source\n",
    "    driver.quit()\n",
    "    return content"
   ]
  },
  {
   "cell_type": "code",
   "execution_count": 7,
   "id": "15c78d8f",
   "metadata": {},
   "outputs": [
    {
     "name": "stderr",
     "output_type": "stream",
     "text": [
      "/tmp/ipykernel_4491/1116036059.py:2: DeprecationWarning: executable_path has been deprecated, please pass in a Service object\n",
      "  driver = webdriver.Chrome(\"/usr/local/share/chromedriver\")\n"
     ]
    },
    {
     "name": "stdout",
     "output_type": "stream",
     "text": [
      "['https://adoptadog.sg/adopt/view/1844', 'https://adoptadog.sg/adopt/view/2021', 'https://adoptadog.sg/adopt/view/942', 'https://adoptadog.sg/adopt/view/1884', 'https://adoptadog.sg/adopt/view/1504', 'https://adoptadog.sg/adopt/view/2005', 'https://adoptadog.sg/adopt/view/1729', 'https://adoptadog.sg/adopt/view/735', 'https://adoptadog.sg/adopt/view/488', 'https://adoptadog.sg/adopt/view/1870', 'https://adoptadog.sg/adopt/view/1993', 'https://adoptadog.sg/adopt/view/890', 'https://adoptadog.sg/adopt/view/1907', 'https://adoptadog.sg/adopt/view/843', 'https://adoptadog.sg/adopt/view/2060', 'https://adoptadog.sg/adopt/view/1929', 'https://adoptadog.sg/adopt/view/1834', 'https://adoptadog.sg/adopt/view/1233', 'https://adoptadog.sg/adopt/view/988', 'https://adoptadog.sg/adopt/view/2017', 'https://adoptadog.sg/adopt/view/258', 'https://adoptadog.sg/adopt/view/2015', 'https://adoptadog.sg/adopt/view/405', 'https://adoptadog.sg/adopt/view/2056', 'https://adoptadog.sg/adopt/view/1567', 'https://adoptadog.sg/adopt/view/941', 'https://adoptadog.sg/adopt/view/1583', 'https://adoptadog.sg/adopt/view/1913', 'https://adoptadog.sg/adopt/view/1921', 'https://adoptadog.sg/adopt/view/416', 'https://adoptadog.sg/adopt/view/1976', 'https://adoptadog.sg/adopt/view/2059', 'https://adoptadog.sg/adopt/view/2057', 'https://adoptadog.sg/adopt/view/759', 'https://adoptadog.sg/adopt/view/1939', 'https://adoptadog.sg/adopt/view/496', 'https://adoptadog.sg/adopt/view/1780', 'https://adoptadog.sg/adopt/view/1984', 'https://adoptadog.sg/adopt/view/868', 'https://adoptadog.sg/adopt/view/519', 'https://adoptadog.sg/adopt/view/1928', 'https://adoptadog.sg/adopt/view/834', 'https://adoptadog.sg/adopt/view/1030', 'https://adoptadog.sg/adopt/view/2020', 'https://adoptadog.sg/adopt/view/1873', 'https://adoptadog.sg/adopt/view/495', 'https://adoptadog.sg/adopt/view/1839', 'https://adoptadog.sg/adopt/view/1931', 'https://adoptadog.sg/adopt/view/764', 'https://adoptadog.sg/adopt/view/2058', 'https://adoptadog.sg/adopt/view/2036', 'https://adoptadog.sg/adopt/view/2007', 'https://adoptadog.sg/adopt/view/2053', 'https://adoptadog.sg/adopt/view/2041', 'https://adoptadog.sg/adopt/view/129', 'https://adoptadog.sg/adopt/view/2000', 'https://adoptadog.sg/adopt/view/1423', 'https://adoptadog.sg/adopt/view/1869', 'https://adoptadog.sg/adopt/view/2050', 'https://adoptadog.sg/adopt/view/1706', 'https://adoptadog.sg/adopt/view/231', 'https://adoptadog.sg/adopt/view/1909', 'https://adoptadog.sg/adopt/view/2003', 'https://adoptadog.sg/adopt/view/1865', 'https://adoptadog.sg/adopt/view/1883', 'https://adoptadog.sg/adopt/view/2030', 'https://adoptadog.sg/adopt/view/240', 'https://adoptadog.sg/adopt/view/1999', 'https://adoptadog.sg/adopt/view/230', 'https://adoptadog.sg/adopt/view/1578', 'https://adoptadog.sg/adopt/view/1537', 'https://adoptadog.sg/adopt/view/1371', 'https://adoptadog.sg/adopt/view/1933', 'https://adoptadog.sg/adopt/view/1463', 'https://adoptadog.sg/adopt/view/1887', 'https://adoptadog.sg/adopt/view/1924', 'https://adoptadog.sg/adopt/view/1930', 'https://adoptadog.sg/adopt/view/1968', 'https://adoptadog.sg/adopt/view/798', 'https://adoptadog.sg/adopt/view/918', 'https://adoptadog.sg/adopt/view/400', 'https://adoptadog.sg/adopt/view/1638', 'https://adoptadog.sg/adopt/view/1888', 'https://adoptadog.sg/adopt/view/835', 'https://adoptadog.sg/adopt/view/1868', 'https://adoptadog.sg/adopt/view/2054', 'https://adoptadog.sg/adopt/view/1608', 'https://adoptadog.sg/adopt/view/1109', 'https://adoptadog.sg/adopt/view/1273', 'https://adoptadog.sg/adopt/view/2045', 'https://adoptadog.sg/adopt/view/2081', 'https://adoptadog.sg/adopt/view/1925', 'https://adoptadog.sg/adopt/view/1891', 'https://adoptadog.sg/adopt/view/2048', 'https://adoptadog.sg/adopt/view/243', 'https://adoptadog.sg/adopt/view/2067', 'https://adoptadog.sg/adopt/view/2024', 'https://adoptadog.sg/adopt/view/1261', 'https://adoptadog.sg/adopt/view/2022', 'https://adoptadog.sg/adopt/view/1914', 'https://adoptadog.sg/adopt/view/1653', 'https://adoptadog.sg/adopt/view/2061', 'https://adoptadog.sg/adopt/view/2004', 'https://adoptadog.sg/adopt/view/1911', 'https://adoptadog.sg/adopt/view/2076', 'https://adoptadog.sg/adopt/view/1934', 'https://adoptadog.sg/adopt/view/1644', 'https://adoptadog.sg/adopt/view/393', 'https://adoptadog.sg/adopt/view/1857', 'https://adoptadog.sg/adopt/view/232', 'https://adoptadog.sg/adopt/view/1661', 'https://adoptadog.sg/adopt/view/2064', 'https://adoptadog.sg/adopt/view/1997', 'https://adoptadog.sg/adopt/view/1468', 'https://adoptadog.sg/adopt/view/2063', 'https://adoptadog.sg/adopt/view/2016', 'https://adoptadog.sg/adopt/view/1927', 'https://adoptadog.sg/adopt/view/1996', 'https://adoptadog.sg/adopt/view/1935', 'https://adoptadog.sg/adopt/view/196', 'https://adoptadog.sg/adopt/view/16', 'https://adoptadog.sg/adopt/view/1532', 'https://adoptadog.sg/adopt/view/1420', 'https://adoptadog.sg/adopt/view/2078', 'https://adoptadog.sg/adopt/view/2049', 'https://adoptadog.sg/adopt/view/1373', 'https://adoptadog.sg/adopt/view/2008', 'https://adoptadog.sg/adopt/view/1992', 'https://adoptadog.sg/adopt/view/1995', 'https://adoptadog.sg/adopt/view/1600', 'https://adoptadog.sg/adopt/view/562', 'https://adoptadog.sg/adopt/view/1718', 'https://adoptadog.sg/adopt/view/1689', 'https://adoptadog.sg/adopt/view/2033', 'https://adoptadog.sg/adopt/view/484', 'https://adoptadog.sg/adopt/view/1000', 'https://adoptadog.sg/adopt/view/1994', 'https://adoptadog.sg/adopt/view/1905', 'https://adoptadog.sg/adopt/view/1305', 'https://adoptadog.sg/adopt/view/993', 'https://adoptadog.sg/adopt/view/2055', 'https://adoptadog.sg/adopt/view/2046', 'https://adoptadog.sg/adopt/view/2009', 'https://adoptadog.sg/adopt/view/1998', 'https://adoptadog.sg/adopt/view/761', 'https://adoptadog.sg/adopt/view/1111', 'https://adoptadog.sg/adopt/view/1920', 'https://adoptadog.sg/adopt/view/332', 'https://adoptadog.sg/adopt/view/2043', 'https://adoptadog.sg/adopt/view/1803', 'https://adoptadog.sg/adopt/view/1937', 'https://adoptadog.sg/adopt/view/2062', 'https://adoptadog.sg/adopt/view/1964', 'https://adoptadog.sg/adopt/view/2018', 'https://adoptadog.sg/adopt/view/2001', 'https://adoptadog.sg/adopt/view/1918', 'https://adoptadog.sg/adopt/view/411', 'https://adoptadog.sg/adopt/view/2072', 'https://adoptadog.sg/adopt/view/1991', 'https://adoptadog.sg/adopt/view/765', 'https://adoptadog.sg/adopt/view/363', 'https://adoptadog.sg/adopt/view/1108', 'https://adoptadog.sg/adopt/view/2010', 'https://adoptadog.sg/adopt/view/2073', 'https://adoptadog.sg/adopt/view/1652', 'https://adoptadog.sg/adopt/view/1805', 'https://adoptadog.sg/adopt/view/2042', 'https://adoptadog.sg/adopt/view/1485', 'https://adoptadog.sg/adopt/view/1691', 'https://adoptadog.sg/adopt/view/1936', 'https://adoptadog.sg/adopt/view/1117']\n"
     ]
    }
   ],
   "source": [
    "adoption_links = []\n",
    "for i in range(1,10):\n",
    "    url = f\"https://adoptadog.sg/adopt?page={i}\"\n",
    "    soup = BeautifulSoup(driver_function(url), 'html.parser')\n",
    "    \n",
    "    links = soup.findAll('a')\n",
    "    for link in links:\n",
    "        result = link.get('href')\n",
    "        if \"view/\" in result and result not in adoption_links:\n",
    "            adoption_links.append(result)\n",
    "\n",
    "print(adoption_links)"
   ]
  },
  {
   "cell_type": "code",
   "execution_count": 8,
   "id": "97ca1902",
   "metadata": {},
   "outputs": [
    {
     "data": {
      "text/plain": [
       "171"
      ]
     },
     "execution_count": 8,
     "metadata": {},
     "output_type": "execute_result"
    }
   ],
   "source": [
    "len(adoption_links)"
   ]
  },
  {
   "cell_type": "code",
   "execution_count": 112,
   "id": "b6f68d59",
   "metadata": {},
   "outputs": [
    {
     "name": "stdout",
     "output_type": "stream",
     "text": [
      "0       https://www.asdsingapore.com/adopt/aimee\n",
      "1       https://www.asdsingapore.com/adopt/akita\n",
      "2       https://www.asdsingapore.com/adopt/asher\n",
      "3        https://www.asdsingapore.com/adopt/asta\n",
      "4        https://www.asdsingapore.com/adopt/bebe\n",
      "                         ...                    \n",
      "70    https://www.asdsingapore.com/adopt/treacle\n",
      "71      https://www.asdsingapore.com/adopt/trish\n",
      "72      https://www.asdsingapore.com/adopt/ursus\n",
      "73       https://www.asdsingapore.com/adopt/yara\n",
      "74       https://www.asdsingapore.com/adopt/zena\n",
      "Name: Link, Length: 75, dtype: object\n"
     ]
    }
   ],
   "source": [
    "data = pd.read_excel('./Shelter Adoption Data.xlsx', sheet_name='Sheet1', engine='openpyxl')\n",
    "\n",
    "adoption_links = data.get('Link')\n",
    "print(adoption_links)"
   ]
  },
  {
   "cell_type": "code",
   "execution_count": 122,
   "id": "3c427d0b",
   "metadata": {},
   "outputs": [
    {
     "name": "stdout",
     "output_type": "stream",
     "text": [
      "https://static.wixstatic.com/media/63a101_dc7107063225469bbe277a4caaf355b7~mv2.png/v1/fill/w_209,h_88,al_c,q_85,usm_0.66_1.00_0.01,enc_auto/63a101_dc7107063225469bbe277a4caaf355b7~mv2.png\n",
      "https://static.wixstatic.com/media/63a101_1f125d6c10e942de827efdd5fbd66898.png/v1/fill/w_50,h_50,al_c,q_85,usm_0.66_1.00_0.01,enc_auto/63a101_1f125d6c10e942de827efdd5fbd66898.png\n",
      "https://static.wixstatic.com/media/63a101_4f3da6ee7c194da683a78de678003671.png/v1/fill/w_50,h_49,al_c,q_85,usm_0.66_1.00_0.01,enc_auto/63a101_4f3da6ee7c194da683a78de678003671.png\n",
      "https://static.wixstatic.com/media/63a101_00fd6221a8d741ee8f0ebbd00d118624.png/v1/fill/w_61,h_61,al_c,q_85,usm_0.66_1.00_0.01,enc_auto/63a101_00fd6221a8d741ee8f0ebbd00d118624.png\n",
      "https://static.wixstatic.com/media/63a101_309faee9a68345458827df15b72ef3d0.png/v1/fill/w_60,h_59,al_c,q_85,usm_0.66_1.00_0.01,enc_auto/63a101_309faee9a68345458827df15b72ef3d0.png\n",
      "https://static.wixstatic.com/media/63a101_00b54cc910bc4c618f41f656f6bb53ae.png/v1/fill/w_55,h_55,al_c,q_85,usm_0.66_1.00_0.01,enc_auto/63a101_00b54cc910bc4c618f41f656f6bb53ae.png\n",
      "https://static.wixstatic.com/media/63a101_cc5713ac10d34a0daa7b807c568a3176.png/v1/fill/w_55,h_54,al_c,q_85,usm_0.66_1.00_0.01,enc_auto/63a101_cc5713ac10d34a0daa7b807c568a3176.png\n",
      "https://static.wixstatic.com/media/63a101_a2f201fc36f04683ac80cd7eef54e7df~mv2.png/v1/fill/w_42,h_44,al_c,q_85,usm_0.66_1.00_0.01,enc_auto/newsletter.png\n",
      "https://static.wixstatic.com/media/63a101_4ab1c8a9128740989162e65346d6982a~mv2.jpg/v1/crop/x_0,y_254,w_5184,h_2440/fill/w_980,h_461,al_c,q_85,usm_0.66_1.00_0.01,enc_auto/Dodie_0721_P1077834.jpg\n",
      "https://static.wixstatic.com/media/63a101_1a5ec040707742fc8e2903b050faaab6~mv2.jpg/v1/fill/w_72,h_108,al_c,q_80,usm_0.66_1.00_0.01,blur_2,enc_auto/Dodie_0721_P1087919.jpg\n",
      "https://static.wixstatic.com/media/63a101_f64dd4f94c904d33b427209f57b2f62d~mv2.jpg/v1/fill/w_73,h_97,al_c,q_80,usm_0.66_1.00_0.01,blur_2,enc_auto/PXL_20210710_094847458.jpg\n",
      "https://static.wixstatic.com/media/63a101_10d5f0bd8a8349d49d862d2592c7e109~mv2.jpg/v1/fill/w_62,h_110,al_c,q_80,usm_0.66_1.00_0.01,blur_2,enc_auto/20210704_183016.jpg\n",
      "https://static.wixstatic.com/media/63a101_de60b9aa3d59426fb8800605272f0b60.png/v1/fill/w_36,h_36,al_c,q_85,usm_0.66_1.00_0.01,blur_3,enc_auto/63a101_de60b9aa3d59426fb8800605272f0b60.png\n",
      "https://static.wixstatic.com/media/63a101_12001cc944324817b3d097f6fa0aec1a.png/v1/fill/w_39,h_39,al_c,q_85,usm_0.66_1.00_0.01,blur_3,enc_auto/63a101_12001cc944324817b3d097f6fa0aec1a.png\n",
      "\n",
      "Total Images Downloaded:  0\n",
      "Total Error Links:  0\n"
     ]
    }
   ],
   "source": [
    "def getdata(url):\n",
    "    r = requests.get(url)\n",
    "    return r.text\n",
    "\n",
    "\n",
    "adoption_links = [\"https://mercylight.wixsite.com/mercylight/dodiejr\"]\n",
    "count = 0\n",
    "error_count = 0\n",
    "repeat_files = []\n",
    "for adoption_link in adoption_links:\n",
    "    htmldata = getdata(adoption_link)\n",
    "    soup = BeautifulSoup(htmldata,'html.parser')\n",
    "    for item in soup.find_all('img'):\n",
    "        print(item['src'])\n",
    "\n",
    "print()\n",
    "print(\"Total Images Downloaded: \",count)\n",
    "print(\"Total Error Links: \",error_count)\n",
    "        "
   ]
  },
  {
   "cell_type": "code",
   "execution_count": 119,
   "id": "9c23e79e",
   "metadata": {},
   "outputs": [
    {
     "name": "stdout",
     "output_type": "stream",
     "text": [
      "https://www.asdsingapore.com/assets/images/adopts/aimee-20220119090253.jpg\n",
      "https://www.asdsingapore.com/assets/images/adopts/akita-20220119190850.jpg\n",
      "https://www.asdsingapore.com/assets/images/adopts/asher-20220327154932.jpg\n",
      "https://www.asdsingapore.com/assets/images/adopts/asta-20220327140706.jpg\n",
      "https://www.asdsingapore.com/assets/images/adopts/bebe-20220119192510.jpg\n",
      "https://www.asdsingapore.com/assets/images/adopts/bertine-20220610112754.jpeg\n",
      "https://www.asdsingapore.com/assets/images/adopts/bheen-20220119084629.jpg\n",
      "https://www.asdsingapore.com/assets/images/adopts/biscuit-20190315053204.jpg\n",
      "https://www.asdsingapore.com/assets/images/adopts/bobbi-20220327150421.jpg\n",
      "https://www.asdsingapore.com/assets/images/adopts/bolt-20220414112946.jpg\n",
      "https://www.asdsingapore.com/assets/images/adopts/brock-20220119203554.png\n",
      "https://www.asdsingapore.com/assets/images/adopts/bruno-20220327150511.jpg\n",
      "https://www.asdsingapore.com/assets/images/adopts/calbee-20220327145637.jpg\n",
      "https://www.asdsingapore.com/assets/images/adopts/cameron-20220610113742.jpeg\n",
      "https://www.asdsingapore.com/assets/images/adopts/capella-20220610113828.jpeg\n",
      "https://www.asdsingapore.com/assets/images/adopts/capri-20220610113106.jpeg\n",
      "https://www.asdsingapore.com/assets/images/adopts/choco-20220327144250.jpg\n",
      "https://www.asdsingapore.com/assets/images/adopts/clifton-20220119200624.jpg\n",
      "https://www.asdsingapore.com/assets/images/adopts/clovis-20220119085943.jpg\n",
      "https://www.asdsingapore.com/assets/images/adopts/cypher-20220327154231.jpg\n",
      "https://www.asdsingapore.com/assets/images/adopts/daisy-20220119201412.jpg\n",
      "https://www.asdsingapore.com/assets/images/adopts/delphi-20220610114731.jpeg\n",
      "https://www.asdsingapore.com/assets/images/adopts/dinky-20220119192807.jpg\n",
      "https://www.asdsingapore.com/assets/images/adopts/dollar-20220327144305.jpg\n",
      "https://www.asdsingapore.com/assets/images/adopts/dongdong-20220610114049.jpeg\n",
      "https://www.asdsingapore.com/assets/images/adopts/ekam-20220814124541.jpg\n",
      "https://www.asdsingapore.com/assets/images/adopts/elf-20220327160128.jpg\n",
      "https://www.asdsingapore.com/assets/images/adopts/elly-20220327155944.jpg\n",
      "https://www.asdsingapore.com/assets/images/adopts/elvis-20220410193329.jpeg\n",
      "https://www.asdsingapore.com/assets/images/adopts/fin-20220327150217.jpg\n",
      "https://www.asdsingapore.com/assets/images/adopts/fiver-20220327141119.jpg\n",
      "https://www.asdsingapore.com/assets/images/adopts/gellert-20220610114415.jpeg\n",
      "https://www.asdsingapore.com/assets/images/adopts/gonzo-20220327150309.jpg\n",
      "https://www.asdsingapore.com/assets/images/adopts/jasper-20220327153528.jpg\n",
      "https://www.asdsingapore.com/assets/images/adopts/jiuwan-20220610114204.jpeg\n",
      "https://www.asdsingapore.com/assets/images/adopts/julius-20220402125741.jpg\n",
      "https://www.asdsingapore.com/assets/images/adopts/karen-20220402174823.jpg\n",
      "https://www.asdsingapore.com/assets/images/adopts/lambert-20220119085037.jpg\n",
      "https://www.asdsingapore.com/assets/images/adopts/leen-yong-20220119085741.jpg\n",
      "https://www.asdsingapore.com/assets/images/adopts/lilibet-20220327153351.jpg\n",
      "https://www.asdsingapore.com/assets/images/adopts/louie-20220327145152.jpg\n",
      "https://www.asdsingapore.com/assets/images/adopts/lucky-b-20220327145734.jpg\n",
      "https://www.asdsingapore.com/assets/images/adopts/lucy-20220327153232.jpg\n",
      "https://www.asdsingapore.com/assets/images/adopts/marco-20220119203119.png\n",
      "https://www.asdsingapore.com/assets/images/adopts/martell-20220327144051.jpg\n",
      "https://www.asdsingapore.com/assets/images/adopts/martin-20220410192446.jpg\n",
      "https://www.asdsingapore.com/assets/images/adopts/micki-20220814124125.jpg\n",
      "https://www.asdsingapore.com/assets/images/adopts/milo-20220327153441.jpg\n",
      "https://www.asdsingapore.com/assets/images/adopts/mooncake-20220610112142.jpeg\n",
      "https://www.asdsingapore.com/assets/images/adopts/noche-20220610112543.jpeg\n",
      "https://www.asdsingapore.com/assets/images/adopts/nugget-20220327154605.jpg\n",
      "https://www.asdsingapore.com/assets/images/adopts/omin-20220327155722.jpg\n",
      "https://www.asdsingapore.com/assets/images/adopts/qr-20220402174615.jpg\n",
      "https://www.asdsingapore.com/assets/images/adopts/raju-20220119190145.jpg\n",
      "https://www.asdsingapore.com/assets/images/adopts/ron-20220327154520.jpg\n",
      "https://www.asdsingapore.com/assets/images/adopts/sakae-20220327160017.jpg\n",
      "https://www.asdsingapore.com/assets/images/adopts/sake-20220327155458.jpg\n",
      "https://www.asdsingapore.com/assets/images/adopts/scirocco-20220119190640.jpg\n",
      "https://www.asdsingapore.com/assets/images/adopts/shaw-20220610114329.jpeg\n",
      "https://www.asdsingapore.com/assets/images/adopts/siew-mai-20220327160216.jpg\n",
      "https://www.asdsingapore.com/assets/images/adopts/soju-20220119084846.jpg\n",
      "https://www.asdsingapore.com/assets/images/adopts/sterling-20220402174711.jpg\n",
      "https://www.asdsingapore.com/assets/images/adopts/taariq-20220410193225.jpeg\n",
      "https://www.asdsingapore.com/assets/images/adopts/tam-20220327145548.jpg\n",
      "https://www.asdsingapore.com/assets/images/adopts/tank-20220327145821.jpg\n",
      "https://www.asdsingapore.com/assets/images/adopts/tao-bao-20220327145341.jpg\n",
      "https://www.asdsingapore.com/assets/images/adopts/tarzan-20220610114003.jpeg\n",
      "https://www.asdsingapore.com/assets/images/adopts/tau-sar-20220119085543.jpg\n",
      "https://www.asdsingapore.com/assets/images/adopts/toby-20220119201726.jpg\n",
      "https://www.asdsingapore.com/assets/images/adopts/tony-20220409161919.jpg\n",
      "https://www.asdsingapore.com/assets/images/adopts/treacle-20220327155352.jpg\n",
      "https://www.asdsingapore.com/assets/images/adopts/trish-20220119202348.png\n",
      "https://www.asdsingapore.com/assets/images/adopts/ursus-20220610121339.png\n",
      "https://www.asdsingapore.com/assets/images/adopts/yara-20220206123325.jpg\n",
      "https://www.asdsingapore.com/assets/images/adopts/zena-20220327145249.jpg\n",
      "\n",
      "Total Images Downloaded:  75\n",
      "Total Error Links:  0\n",
      "['aimee-20220119090253.jpg', 'akita-20220119190850.jpg', 'asher-20220327154932.jpg', 'asta-20220327140706.jpg', 'bebe-20220119192510.jpg', 'bertine-20220610112754.jpeg', 'bheen-20220119084629.jpg', 'biscuit-20190315053204.jpg', 'bobbi-20220327150421.jpg', 'bolt-20220414112946.jpg', 'brock-20220119203554.png', 'bruno-20220327150511.jpg', 'calbee-20220327145637.jpg', 'cameron-20220610113742.jpeg', 'capella-20220610113828.jpeg', 'capri-20220610113106.jpeg', 'choco-20220327144250.jpg', 'clifton-20220119200624.jpg', 'clovis-20220119085943.jpg', 'cypher-20220327154231.jpg', 'daisy-20220119201412.jpg', 'delphi-20220610114731.jpeg', 'dinky-20220119192807.jpg', 'dollar-20220327144305.jpg', 'dongdong-20220610114049.jpeg', 'ekam-20220814124541.jpg', 'elf-20220327160128.jpg', 'elly-20220327155944.jpg', 'elvis-20220410193329.jpeg', 'fin-20220327150217.jpg', 'fiver-20220327141119.jpg', 'gellert-20220610114415.jpeg', 'gonzo-20220327150309.jpg', 'jasper-20220327153528.jpg', 'jiuwan-20220610114204.jpeg', 'julius-20220402125741.jpg', 'karen-20220402174823.jpg', 'lambert-20220119085037.jpg', 'leen-yong-20220119085741.jpg', 'lilibet-20220327153351.jpg', 'louie-20220327145152.jpg', 'lucky-b-20220327145734.jpg', 'lucy-20220327153232.jpg', 'marco-20220119203119.png', 'martell-20220327144051.jpg', 'martin-20220410192446.jpg', 'micki-20220814124125.jpg', 'milo-20220327153441.jpg', 'mooncake-20220610112142.jpeg', 'noche-20220610112543.jpeg', 'nugget-20220327154605.jpg', 'omin-20220327155722.jpg', 'qr-20220402174615.jpg', 'raju-20220119190145.jpg', 'ron-20220327154520.jpg', 'sakae-20220327160017.jpg', 'sake-20220327155458.jpg', 'scirocco-20220119190640.jpg', 'shaw-20220610114329.jpeg', 'siew-mai-20220327160216.jpg', 'soju-20220119084846.jpg', 'sterling-20220402174711.jpg', 'taariq-20220410193225.jpeg', 'tam-20220327145548.jpg', 'tank-20220327145821.jpg', 'tao-bao-20220327145341.jpg', 'tarzan-20220610114003.jpeg', 'tau-sar-20220119085543.jpg', 'toby-20220119201726.jpg', 'tony-20220409161919.jpg', 'treacle-20220327155352.jpg', 'trish-20220119202348.png', 'ursus-20220610121339.png', 'yara-20220206123325.jpg', 'zena-20220327145249.jpg']\n",
      "['https://www.asdsingapore.com/assets/images/adopts/aimee-20220119090253.jpg', 'https://www.asdsingapore.com/assets/images/adopts/akita-20220119190850.jpg', 'https://www.asdsingapore.com/assets/images/adopts/asher-20220327154932.jpg', 'https://www.asdsingapore.com/assets/images/adopts/asta-20220327140706.jpg', 'https://www.asdsingapore.com/assets/images/adopts/bebe-20220119192510.jpg', 'https://www.asdsingapore.com/assets/images/adopts/bertine-20220610112754.jpeg', 'https://www.asdsingapore.com/assets/images/adopts/bheen-20220119084629.jpg', 'https://www.asdsingapore.com/assets/images/adopts/biscuit-20190315053204.jpg', 'https://www.asdsingapore.com/assets/images/adopts/bobbi-20220327150421.jpg', 'https://www.asdsingapore.com/assets/images/adopts/bolt-20220414112946.jpg', 'https://www.asdsingapore.com/assets/images/adopts/brock-20220119203554.png', 'https://www.asdsingapore.com/assets/images/adopts/bruno-20220327150511.jpg', 'https://www.asdsingapore.com/assets/images/adopts/calbee-20220327145637.jpg', 'https://www.asdsingapore.com/assets/images/adopts/cameron-20220610113742.jpeg', 'https://www.asdsingapore.com/assets/images/adopts/capella-20220610113828.jpeg', 'https://www.asdsingapore.com/assets/images/adopts/capri-20220610113106.jpeg', 'https://www.asdsingapore.com/assets/images/adopts/choco-20220327144250.jpg', 'https://www.asdsingapore.com/assets/images/adopts/clifton-20220119200624.jpg', 'https://www.asdsingapore.com/assets/images/adopts/clovis-20220119085943.jpg', 'https://www.asdsingapore.com/assets/images/adopts/cypher-20220327154231.jpg', 'https://www.asdsingapore.com/assets/images/adopts/daisy-20220119201412.jpg', 'https://www.asdsingapore.com/assets/images/adopts/delphi-20220610114731.jpeg', 'https://www.asdsingapore.com/assets/images/adopts/dinky-20220119192807.jpg', 'https://www.asdsingapore.com/assets/images/adopts/dollar-20220327144305.jpg', 'https://www.asdsingapore.com/assets/images/adopts/dongdong-20220610114049.jpeg', 'https://www.asdsingapore.com/assets/images/adopts/ekam-20220814124541.jpg', 'https://www.asdsingapore.com/assets/images/adopts/elf-20220327160128.jpg', 'https://www.asdsingapore.com/assets/images/adopts/elly-20220327155944.jpg', 'https://www.asdsingapore.com/assets/images/adopts/elvis-20220410193329.jpeg', 'https://www.asdsingapore.com/assets/images/adopts/fin-20220327150217.jpg', 'https://www.asdsingapore.com/assets/images/adopts/fiver-20220327141119.jpg', 'https://www.asdsingapore.com/assets/images/adopts/gellert-20220610114415.jpeg', 'https://www.asdsingapore.com/assets/images/adopts/gonzo-20220327150309.jpg', 'https://www.asdsingapore.com/assets/images/adopts/jasper-20220327153528.jpg', 'https://www.asdsingapore.com/assets/images/adopts/jiuwan-20220610114204.jpeg', 'https://www.asdsingapore.com/assets/images/adopts/julius-20220402125741.jpg', 'https://www.asdsingapore.com/assets/images/adopts/karen-20220402174823.jpg', 'https://www.asdsingapore.com/assets/images/adopts/lambert-20220119085037.jpg', 'https://www.asdsingapore.com/assets/images/adopts/leen-yong-20220119085741.jpg', 'https://www.asdsingapore.com/assets/images/adopts/lilibet-20220327153351.jpg', 'https://www.asdsingapore.com/assets/images/adopts/louie-20220327145152.jpg', 'https://www.asdsingapore.com/assets/images/adopts/lucky-b-20220327145734.jpg', 'https://www.asdsingapore.com/assets/images/adopts/lucy-20220327153232.jpg', 'https://www.asdsingapore.com/assets/images/adopts/marco-20220119203119.png', 'https://www.asdsingapore.com/assets/images/adopts/martell-20220327144051.jpg', 'https://www.asdsingapore.com/assets/images/adopts/martin-20220410192446.jpg', 'https://www.asdsingapore.com/assets/images/adopts/micki-20220814124125.jpg', 'https://www.asdsingapore.com/assets/images/adopts/milo-20220327153441.jpg', 'https://www.asdsingapore.com/assets/images/adopts/mooncake-20220610112142.jpeg', 'https://www.asdsingapore.com/assets/images/adopts/noche-20220610112543.jpeg', 'https://www.asdsingapore.com/assets/images/adopts/nugget-20220327154605.jpg', 'https://www.asdsingapore.com/assets/images/adopts/omin-20220327155722.jpg', 'https://www.asdsingapore.com/assets/images/adopts/qr-20220402174615.jpg', 'https://www.asdsingapore.com/assets/images/adopts/raju-20220119190145.jpg', 'https://www.asdsingapore.com/assets/images/adopts/ron-20220327154520.jpg', 'https://www.asdsingapore.com/assets/images/adopts/sakae-20220327160017.jpg', 'https://www.asdsingapore.com/assets/images/adopts/sake-20220327155458.jpg', 'https://www.asdsingapore.com/assets/images/adopts/scirocco-20220119190640.jpg', 'https://www.asdsingapore.com/assets/images/adopts/shaw-20220610114329.jpeg', 'https://www.asdsingapore.com/assets/images/adopts/siew-mai-20220327160216.jpg', 'https://www.asdsingapore.com/assets/images/adopts/soju-20220119084846.jpg', 'https://www.asdsingapore.com/assets/images/adopts/sterling-20220402174711.jpg', 'https://www.asdsingapore.com/assets/images/adopts/taariq-20220410193225.jpeg', 'https://www.asdsingapore.com/assets/images/adopts/tam-20220327145548.jpg', 'https://www.asdsingapore.com/assets/images/adopts/tank-20220327145821.jpg', 'https://www.asdsingapore.com/assets/images/adopts/tao-bao-20220327145341.jpg', 'https://www.asdsingapore.com/assets/images/adopts/tarzan-20220610114003.jpeg', 'https://www.asdsingapore.com/assets/images/adopts/tau-sar-20220119085543.jpg', 'https://www.asdsingapore.com/assets/images/adopts/toby-20220119201726.jpg', 'https://www.asdsingapore.com/assets/images/adopts/tony-20220409161919.jpg', 'https://www.asdsingapore.com/assets/images/adopts/treacle-20220327155352.jpg', 'https://www.asdsingapore.com/assets/images/adopts/trish-20220119202348.png', 'https://www.asdsingapore.com/assets/images/adopts/ursus-20220610121339.png', 'https://www.asdsingapore.com/assets/images/adopts/yara-20220206123325.jpg', 'https://www.asdsingapore.com/assets/images/adopts/zena-20220327145249.jpg']\n"
     ]
    }
   ],
   "source": [
    "headers = {\n",
    "    'authority': 'www.asdsingapore.com',\n",
    "    'accept': 'text/html,application/xhtml+xml,application/xml;q=0.9,image/webp,image/apng,/;q=0.8,application/signed-exchange;v=b3;q=0.9',\n",
    "    'accept-language': 'zh-CN,zh;q=0.9,en;q=0.8,en-GB;q=0.7,en-US;q=0.6',\n",
    "    # Requests sorts cookies= alphabetically\n",
    "    # 'cookie': '_ga=GA1.2.241742884.1663252160; _gid=GA1.2.448650983.1663394260; _gat_gtag_UA_62167634_3=1; XSRF-TOKEN=eyJpdiI6Imp3Wnc3alVWMTBMd3RwYXBpOFhvMUE9PSIsInZhbHVlIjoiOFVlVFJjUkhlOXdVcEdTVTRoTTRYcysrTU9rWlNURlBDU1cyQVZyUkZLYWlDNnU0ZHJpXC9yZXJjVFBsZ0ZBSnVWeHREZ2JDYjVSRHRWb0wxdWVmS1F3PT0iLCJtYWMiOiIwNWIwNGY1MjMyZDQ4OWE1OWQxMjNlMmE4NWRkYTc0NjBkNzRkM2E2MTczYTlkNTY2MjI3MmNjNzJhM2Y2ZDY1In0%3D; laravel_session=eyJpdiI6InYrSm5QZ2dWTStsRnR1ZWpLb3J4cVE9PSIsInZhbHVlIjoibTVpaWpTT3ZBREJwalJpZzB6TzhDSDlXXC9LM2o2eUwyRXlZU1wvV2NMK0R5c1JXcjlpNU9IRnByTEZFTlBjUyttSzQ5VTVIaGRHRXZhbTlvMmt4c1V4UT09IiwibWFjIjoiNjg2MDRjYzU4MzkwZDQ2ZjRiMzc4NWJiMjEyOTliZGM4NjcyZmY2NjA1MGM2MThiZDkzMjc5MGZmZTExZmNjNyJ9',\n",
    "    'referer': 'https://www.asdsingapore.com/',\n",
    "    'sec-ch-ua': '\"Microsoft Edge\";v=\"105\", \" Not;A Brand\";v=\"99\", \"Chromium\";v=\"105\"',\n",
    "    'sec-ch-ua-mobile': '?0',\n",
    "    'sec-ch-ua-platform': '\"Windows\"',\n",
    "    'sec-fetch-dest': 'document',\n",
    "    'sec-fetch-mode': 'navigate',\n",
    "    'sec-fetch-site': 'same-origin',\n",
    "    'sec-fetch-user': '?1',\n",
    "    'upgrade-insecure-requests': '1',\n",
    "    'user-agent': 'Mozilla/5.0 (Windows NT 10.0; Win64; x64) AppleWebKit/537.36 (KHTML, like Gecko) Chrome/105.0.0.0 Safari/537.36 Edg/105.0.1343.33',\n",
    "}\n",
    "\n",
    "\n",
    "links_obtained = []\n",
    "files = []\n",
    "count = 0\n",
    "error_count = 0\n",
    "for url in adoption_links:\n",
    "    response = requests.get(url, headers=headers)\n",
    "    soup = BeautifulSoup(response.text, 'html.parser')\n",
    "    results = soup.findAll('img')\n",
    "    for result in results:\n",
    "        stringed_result = str(result)\n",
    "        if \"images/adopts/\" in stringed_result:\n",
    "            try:\n",
    "                print(stringed_result[stringed_result.find(\"https\"):].replace('\" title=\"\"/>',\"\"))\n",
    "                filename = stringed_result[stringed_result.find(\"adopts/\")+7:].replace('\" title=\"\"/>',\"\")\n",
    "#                 urllib.request.urlretrieve(stringed_result[stringed_result.find(\"https\"):].replace('\" title=\"\"/>',\"\"), filename)\n",
    "                links_obtained.append(stringed_result[stringed_result.find(\"https\"):].replace('\" title=\"\"/>',\"\"))\n",
    "                files.append(filename)\n",
    "                count += 1\n",
    "\n",
    "            \n",
    "            except:\n",
    "                print(\"Error Loading: \",stringed_result[stringed_result.find(\"https\"):])\n",
    "                error_count += 1\n",
    "\n",
    "\n",
    "print()\n",
    "print(\"Total Images Downloaded: \",count)\n",
    "print(\"Total Error Links: \",error_count)\n",
    "print(files)\n",
    "print(links_obtained)"
   ]
  },
  {
   "cell_type": "code",
   "execution_count": 120,
   "id": "7596ef9e",
   "metadata": {},
   "outputs": [],
   "source": [
    "df = pd.DataFrame({'File Name':files,\"File Link\":links_obtained}) \n",
    "df.to_excel('ASD Dogs Images.xlsx', index=False)"
   ]
  },
  {
   "cell_type": "code",
   "execution_count": null,
   "id": "c855a912",
   "metadata": {},
   "outputs": [],
   "source": []
  }
 ],
 "metadata": {
  "kernelspec": {
   "display_name": "Python 3 (ipykernel)",
   "language": "python",
   "name": "python3"
  },
  "language_info": {
   "codemirror_mode": {
    "name": "ipython",
    "version": 3
   },
   "file_extension": ".py",
   "mimetype": "text/x-python",
   "name": "python",
   "nbconvert_exporter": "python",
   "pygments_lexer": "ipython3",
   "version": "3.9.12"
  }
 },
 "nbformat": 4,
 "nbformat_minor": 5
}
