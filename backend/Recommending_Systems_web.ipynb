{
  "nbformat": 4,
  "nbformat_minor": 0,
  "metadata": {
    "colab": {
      "provenance": [],
      "collapsed_sections": [],
      "toc_visible": true
    },
    "kernelspec": {
      "name": "python3",
      "display_name": "Python 3"
    },
    "language_info": {
      "name": "python"
    }
  },
  "cells": [
    {
      "cell_type": "code",
      "source": [
        "from google.colab import drive\n",
        "import sys\n",
        "import os\n",
        "drive.mount('/content/gdrive')\n",
        "\n",
        "sys.path.append(r'/content/gdrive/My Drive/iss/irs/PracticeModule/data/Recommendation Systems')\n",
        "print(\"All the system paths:\")\n",
        "sys.path\n",
        "\n",
        "os.chdir(r'/content/gdrive/My Drive/iss/irs/PracticeModule/data/Recommendation Systems')\n",
        "print(\"Current working directory:\")\n",
        "os.getcwd()"
      ],
      "metadata": {
        "colab": {
          "base_uri": "https://localhost:8080/",
          "height": 109
        },
        "id": "GGYGMoXEt9ah",
        "outputId": "21884444-7231-46d4-eae1-1cab2e260dbb"
      },
      "execution_count": 18,
      "outputs": [
        {
          "output_type": "stream",
          "name": "stdout",
          "text": [
            "Drive already mounted at /content/gdrive; to attempt to forcibly remount, call drive.mount(\"/content/gdrive\", force_remount=True).\n",
            "All the system paths:\n",
            "Current working directory:\n"
          ]
        },
        {
          "output_type": "execute_result",
          "data": {
            "text/plain": [
              "'/content/gdrive/My Drive/iss/irs/PracticeModule/data/Recommendation Systems'"
            ],
            "application/vnd.google.colaboratory.intrinsic+json": {
              "type": "string"
            }
          },
          "metadata": {},
          "execution_count": 18
        }
      ]
    },
    {
      "cell_type": "markdown",
      "source": [
        "## **Import Libraries**\n",
        "\n"
      ],
      "metadata": {
        "id": "AmSfXw1huDPP"
      }
    },
    {
      "cell_type": "code",
      "execution_count": 19,
      "metadata": {
        "id": "wMjmX8aOtykL"
      },
      "outputs": [],
      "source": [
        "import numpy as np\n",
        "import pandas as pd\n",
        "from pandas import DataFrame\n",
        "import csv\n",
        "import math\n",
        "import heapq\n",
        "from sklearn.feature_extraction.text import TfidfVectorizer, CountVectorizer, TfidfTransformer\n",
        "import spacy\n"
      ]
    },
    {
      "cell_type": "markdown",
      "source": [
        "## **Load the data**"
      ],
      "metadata": {
        "id": "woTSmIewa2HY"
      }
    },
    {
      "cell_type": "code",
      "source": [
        "data = pd.read_csv('newdata_2.csv')\n",
        "# print(tfidf['Name'])\n",
        "print(data.loc[0])\n",
        "# print(data.shape)\n",
        "\n",
        "corpus = list(data['Corpus'])\n",
        "print(corpus)"
      ],
      "metadata": {
        "id": "NS1VJCAKt6Il",
        "colab": {
          "base_uri": "https://localhost:8080/"
        },
        "outputId": "93b30c4a-01b8-46bc-9014-803e2bf4e1e8"
      },
      "execution_count": 20,
      "outputs": [
        {
          "output_type": "stream",
          "name": "stdout",
          "text": [
            "Unnamed: 0        0\n",
            "Dog_No          0.0\n",
            "Name          Adora\n",
            "Gender            0\n",
            "Age               3\n",
            "              ...  \n",
            "tfidf1765       0.0\n",
            "tfidf1766       0.0\n",
            "tfidf1767       0.0\n",
            "tfidf1768       0.0\n",
            "tfidf1769       0.0\n",
            "Name: 0, Length: 1777, dtype: object\n",
            "[' absolute darling food take medicine food aggression starve point confident trust independent separation anxiety company story able smiley face', ' tip tiny bit smart unfamiliar pretend calm fine cool pup mesmerize pup puppy inside', ' sweet absolutely companion hesitate affection gentle giant reactive single training recommend ideally', ' anxious afraid affection trust wriggle seek', ' recall post baby display change temperament bitey take poope indoor gorgeous quirk good responsible patient walk till today bumpy ensure quirk remain committed chapter kid elderly walk outdoors timid phase sensitive willing engage professional trainer confident playful good patient warm sterilize vaccinated healthy chip food motivate work leash walk confidence ask upfront quirk good', ' eat handfeed meal eat fearful take trust cheer confidence', ' energetic special puppy later healthy fit walk run sociable enjoy mainly child independent fine mess indoor strong leash firm good', ' ash young mum hard gentle nurture soul shine quiet thoughtful smooch happily trick caring compassionate confidence understand bit shy ideal child pet perfect companion quiet friendly pet good manner ash pup bail pound save euthanize petite size perfect ash great compassion shy young mum proud irresistibly adorable pup nervous doggie timid nature encounter warm low maintenance gentle opportunity explore perfect companion furry chill petite size sharp feature narrow bridge large pointy ash shiny beauty throw curveball shyness noticed easily forget long special true affectionate beauty lie beauty lie', ' friendly outgoing lovable playful active outgoing interact affectionate playful friendly perfect pair offer', ' shy stairwell kind soul spot embarrassing facebook lead forget pack quiet cute', ' spidey spidey calm character not mean aloof goofy moment moment regular spidey true character shine awesome', ' sweet shy jurong island chronic kidney disease subcutaneous fluid injection prescribed maintain quality good tolerant little scared single fuss chronic condition big conducive cleanliness stress ideal mention sick consider shy patient careful', ' bambi bertha bradley brandon stick power grid parent unable fend poor little starve whine officer security personnel permise able puppy harm befall tumbling playful little packet joy fun attention training socialisation crucial tender obedient smart adult hang reserve little interact specialized training', ' long aggressive threaten attack fear change enjoy walk enjoy affection company good toddler small young child', ' suppose sweet kind forget take wing nervous spend point slowly regain smile confidence cameo playful', ' submissive shy crave companion peek patiently wait food shy timid bad warm cut solitary figure parking commercial compound ang mo kio dart everyday gardener office staff witness deliver pup conscientious hide pup harm ensure hungry throw food eat challenge food danger pup run difficult baby chase escape gentle little warm', ' big affectionately gentle giant size real gentle sweet puppy ns secretly quarter bunk ns senior later evict quarter long little dejected world clearly ready big hug kiss big', ' bite twice shy hurt till today haunt past ready past socialise energetic fun perfect active lifestyle hopefully patient firm perfect active lifestyle', ' mean defend reflective divine spot roam obvious different young survive run successful finally huge trap low wild share trap save sight enter trap defend young walk play walk leash', ' reserve shy sweet spend bond pair nervous shy regular walk result confidence outside', ' stunning little settle training socialisation', ' regret opportunity social behaviour obedient friendly block late perseverance patient experienced able warm affectionate companion regret willing', ' break survive heal mend walk learning trust low maintenance easily contend frequent walk sweet sensitive attention diamond rose blossom ordinary extraordinary pal', ' great energetic run walk good animal terrify apartment condominium tendency scale fence', ' consist development stage suffice cute smart presence puppy young term good', ' giant affection excitement welcome happily enter enclosure walk leash outside spook vehicle panic hard size strong able walk sweet oversized affection attention', ' cuddly curious little cautious joy bravely finish heartworm ready beauty cuddle attention little curious outside loud patient work confidence walk couch snuggle', ' loyal friendly nervous surrender lovely loyal anxious surrender allegedly bite suggest bit possessive child behaviour walk behaviour result frightened loud happen outside patient resettle', ' gorgeous shy afraid loud force free training calm situation little sensitive comfortable pet trust affectionate food chew avoid sound prolong interact specialized training counsellor', ' shy quiet sweet save chain action cage chain problem terrible awful condition intestine upper cavity slightly short breath walk short walk gets outside cage good scared short walk quiet good', ' face harsh source fresh water food capture puppy bliss ready basic walk shy puppy average puppy comfortable slow curious bloom', ' prepared pass aggression lunge kid alert guard post experienced work ensure settle good challenge chewie lick slow trust training chewie sweet affectionate lick face occasionally burrow arm sneak bed snuggle alas chewie comfortable display behavioural problem door slight sound door unlock worry burglar hypervigilance extend walk difficult blindspot tight flavour lunge drag foot slow move elderly toddler unfamiliar work closely trainer behavioural problem fast later chewie tremendously calm occasional uncontrollable barking chewie manageable walk gentle leader collar loose long leash inquisitive adventurous nature enjoy walk sniff explore hunt intelligent enjoy training skill trick wait free emergency recall heel focus sit stand fetch rarely gets trigger nowadays unpredictable scare interested chewie reveal affectionate trust establish perfect independent non destructive long hour food motivate strong prey drive chewie thrive base training patient commit work closely trainer tight leash visitor work able segregated good visitor work ss chewie food special housing numerous blind spot corner good run', ' good adult child alike wobbly fine', ' fear everyday perceive normal unfamiliar slowly afraid base training walk behaviour walk nicely trigger good understand fear work positive base force free training interact specialized training', ' shy afraid eat sight trust comfortable presence', ' crush death machinery mild natured perfect kid', ' dashy gentle giant melt puppy crush work bottle tender choose long manageable sad selfish poor outgrow puppy long affectionate playful take warm playful play fetch squeaky tennis perfect exercise tv pal busy swinge single fine long hour walk contented selective good kid', ' affectionate playful excited easily walk trainable guidance calm active', ' sociable friendly relaxed sweet independent lose captain naturally little lose good enjoy explore stretch relaxed perfect companion curl couch captain truly offer', ' shy reserved smart special enjoy quiet nervous confidence take walk outside leash stop walk sweet kind play good hassle', ' shy sweet curious smart shy trust face deter cute fluffy sweetest walk key spend outdoors outing park bit slow alright loyal', ' accidental original target tiny thin puppy mean chief aptly describe exhibit calm inside trap struggle transfer singlehandedly trap carrier afraid spend observe assimilate nicely handsome confident', ' shy sweet quiet sweet affectionate super shy face guess stop share good guidance support eat play walk sleep trust smart bad', ' pay compulsory training animal animal update consider', ' sweet natured responsive show affection calm walk leash independent content chill tuas victim dreaded disease', ' fererro handsome striking playful bit mouthy attention good young child fererro outside strong occasion firm', ' incidentally puppy instead calm docile loveable gentle foreign worker likely bad mean', ' puppy jurong island chronic kidney disease long term condition ensure good quality normal lifespan possible great prescribe regular fluid injection healthy condition display separation anxiety slightly mature separation anxiety bad able', ' seletar air base fo air authority tow spare death sentence petrify send survive adjust sound slowly', ' friendly energetic curious outdoors active affectionate smile melt energy puppy play sweet friendly little shy reserve transform loving confident walk outside explore surrounding puppy fool', ' distressed situation entangle waist eat flesh successfully trap rainy send immediately emergency gentle sweet physical condition cause pain show sign defensive behavior press examine clinic impress depict sweet shy nature', ' bubbly young worker big size spaniel play fetch long run stroll work enjoy company young mind little cheeky appreciate firm good little scar damage destroy true beauty guess small pretty enchant', ' folk newly jurong island silly walk leash track say trick aloof food motivated endear able', ' affectionate shy peaceful beautiful companionship reserve little nervous outside world trust okay ideally alongside good take warm total hugger sweetheart shower gem deserve offer bff', ' sweet slightly apprehensive melt gentle demeanor little scared walk good remain calm collect simply pause scared instead panic dart little exposure trust confidence conducive lovely', ' jurong island caregiver loving interactive take warm cataract little insecure gotten line sweet willing past insecurity warm', ' handicap low spine cripple waist crawl chest drag painfully rough gravel spot jurong island hard food swallow gravel pin alleviate gnaw hunger hard baby fate change mr kind muslim work attention changed clearly enjoy lease unfortunate episode threaten away chest infection haze blockage brave valiantly admirably warrior condition wobbly unable control poo acupuncture hydrotherapy able walk normally bundle joy good fortune sweet natured fun playful puppy proper deserve', ' good take warm charming handsome puppy', ' playful friendly makeup artist past amazing eyebrow friendly stand arrive playful charming worm tick fever medication common bounce pretty quick easy pleaser pay attention wait unique gorgeous possible', ' cemetary complaint bite hike sterilize pack fearful run away suspect protect territory intruder heartworm slowly comfortable', ' friendly immediately take moment arrive baby jurong island take staff comfortable enjoy walk excitement eagerness hard leash firm teach walk nicely calmly expect great companion', ' playful energetic enthusiastic yes handsome bashful sweet funny type fun playful spirit long arrive adapt urban walk long fluffy regular maintenance brush', ' gentle friendly reserved gorgeous soul little shy quiet mean introvert lively furry little bit playful sociable share great particularly bag relaxed kind soul belove', ' approx outram long terrified pup walk confidently leash scritche play crazy sis run shy take warm pup pup gentle sniff situation quickly nervous energy nervous shy away aggressive good adult child sible speed play chill snooze away overall behave sweet quick learner rough mama blind slow hbd patient dedication structure lovely', ' forest pack authority sole survive hold good', ' long long starve lock backyard starve food starve attention thrive attention interact lock away food waste food eat morsel walk affectionate walk lead sit wait food serve jump food sweet sweet wait', ' sng baby batch calm walk belly rub walk perfectly leash ready', ' western island save regular pretty sick emaciate bag son blackie normal outcast resident nelly spend take puppy timid small aggressive choose habit', ' beauty face beauty cut kind thick thin pregnancy fire warm lose process destination embark lifetime fun fact alfa', ' read manga recognise detective bubbly playful bundle furry goodness wait investigate surrounding good detective cautious timid criminal scent good detective careful worried warm friendly companion winsome smile strikingly coated furpal wait', ' active intelligent confident energy walk boarding facility real gorgeous motivated smart energy active willing work channel energy positive eager affection good teenage child', ' sweet shy nervous lifetime horrifying condition chain cage entire save chain action comfortable indoor outdoors expect sweet walk harness leash patient world scary deserve', ' good shy indoor avs catcher petrify take warm quiet gentle calm nature leash walk willing indoor walk leash', ' quiet timid kind gentle dame sweet friendly enjoy outside senior outdoors pleasure walk trot alongside patiently take stop lose good dandy pass away originally trap golden wait long', ' recent batch jurong island shy warm rub kangaroo leash kangaroo lead afraid leash', ' cheeky warm food motivated strong', ' comfortable easily win', ' throwback good rosy mandai dote meal nickname mandy marion patrol mandai warn destroy development threaten appear bleak caretaker roof temporary fmn mandy fmn strikingly similar', ' loyal protective affectionate low key energy short walk instead long walk shy suited kid okay femoral ostectomy past dysplasia perfect companion super active lifestyle prefer homebody', ' local crossbreed sterilise vaccinate microchippe pad affectionate playful good calm child good dogs rough vacated factory deal heavy bloated later discover lead poisoning healthy slightly elevate lead slowly expel naturally unique weigh sweet playful goofy affectionate child food enthusiast healthy appetite walk leash easily loud patient confidence assured gentle sweetheart', ' shy excellent comfortable walk leash', ' sweet gentle temperament walk leash little shy warm', ' mini sized mongrel super cute face nice shade friendly wag welcome walk leash moment expect confidence quickly quickly petite size sweet careful install window grill agile climb scale er enclosure fence', ' sweet gentle calm walk leash good', ' independent quiet food motivated', ' shy scared completely sweet guard instinct eat disturb eat spook quickly gets young active child', ' pass adoptive begin neglect welfare little little cut long story short welfare mercylight good problem previous not destructive naughty basically responsibly back action plain word real lifetime commitment', ' easily recognize beautiful smokey dock long nervous pup cheerful curious today excited force free method walk calmly past charm goofy doggy smile cheerful disposition walking take comfortable explore play game snuffle mat sniff yummy food trick wave avoid comfortable unfamiliar neck stroke', ' halus bit tom simply run take warm colour stick offer', ' shy long terrified puppy spca fairly sweet gentle temperament follow cilla interestingly confidence rise notch run enjoy playtime shy calm relaxed settle understand gold wait interact specialized training', ' big baby play rough jump good welcome recognise loud kranji coffee shop pest control', ' friendly affectionate loyal protective attention motivated alpha actively use away affection walk challenge walk ideally firm', ' stoic brave independent good protect pretty independent curl share walk confident theirs truly story friendship good world', ' shy friendly nervous sweet shy confident beau changi bit scared world enjoy walk swimming shiny big endear smile confidence', ' creamy golden pup little charmer friendly playful pup play ready willing smother affection use play run point settle beautiful young', ' attention loiter trap neuter release feedback run road matter gets sterilization spay fearful clinic cage surprisingly arrive appear fairly relaxed wag show sign aggression leash matter important wander', ' quiet shy sweet gorgeous affectionate kind share son company gentle confident cuddle enjoy walk outdoor adventure walk leash pace calm support senior', ' playful active friendly food motivated easily pad excitable easily tug walk apprehension settle confident patient active young kid flourish confidence', ' confident dare explore afraid photo angel cute choose mean peace safety italian lord enable save', ' nervous timid sweet fresh big puppy completely overwhelmed take little settle comfortable great able walk outdoors lively confidence', ' loyal protective shy legged worry confident vivacious stop park ride hang vollie run lose accident tragically lose mum take little regain confidence honestly loyal loving', ' shy energetic nervous sweet accident factory walk good pace fellow stair course challenge carry stair fortunately lightweight comfortable hold playful comfortable motivate inside outside bit affectionate reassurance walk doggy companion', ' take warm pasir panjang hunger', ' wonderful walking partner tv experienced dedicated single fear hide good kid kid walk outdoor gentle cuddle good swim roll mud play charming doggie selective adapt walk healthy outdoor', ' beautiful young energy active playful great outdoors', ' energetic outgoing confident confident extroverte hang good team motivate food clever trainable jump joy able settle easily pair good company hate split', ' noah respectively point puppy got run carcass completely flatten road lead expressway horrible sight spring action quickly set trap remain pup discover presence danger fast move vehicle expressway spot huge python plan foil smart aleck insist harm pup explain mission sabotage trap puppy disappear spot resume pup idea confident outgoing fast pretty intelligent quickly skill sit smart mean cheeky balance discipline develop wonderful good foundation', ' typical breed good natured walk explore adventurous active walk load affection perfect companion interact specialized training counsellor', ' warm face playful nature good ride walk easily experienced patient willing spend bonding earn trust adult', ' shy sweet little anxious shy organisation take finally confident spend hundred hour softly work confidence reassure result walk outside leash regularly quiet timid experienced world', ' behave occasionally nibble furniture quickly correction problem exercise sociable kid pad understands sit dislike certain loud pretty condition megaesophagus monitoring vomiting largely occur able vomit ensure inhale food vomit avoid aspirate pneumonia whine hungry bored exercise solve chew furniture paper occasionally substitute choose sweet deserve condition', ' shy nervous energetic sweet spend mum cheeky cause ruckus loud confident underneath gentle soul confidence walk outside finally offer long term resident wait entire', ' tiny drain hole force hole order rainy season drain easily flood matter endanger little timid take sterilization dump wild good connection young take tiny malnutritioned fast negative reaction', ' puppy quiet lovable big boarding work trim healthy walk leash walk trust able drive big companion', ' gentle calm excellent pet claim pound casac hard good perfect', ' medium sized weigh walk leash use pad sterilize vaccinate friendly aggression territorial single pet allergysharpei sweet natured tough survive sweet bully notice attention affectionate good likely bully instinct defend play nice introduce slowly problem food environmental flare result doggy scent sensitive hard tolerate available commitment administer challenge boarding situation boarding pity lock boarding friendly absolutely company loyal companion goofy cuddlebug', ' slinky pair jurong island puppy constraint main opportunity transfer popular young pupper sweet loving past colour willing overdue', ' friendly affectionate playful walk perk word ideally regular walk twice basic certain eg truck loud etc walk leash firmly spot certain walk company good', ' affectionate charm gaze smooth wavy lock raise safe take walk terrify rainy display fear aggression apartment living send work trust safe company foreign', ' jurong island caregiver little long warm comfortable leash walk enjoy pack walk will long jurong island', ' reserve sweet curious bachelor move sweet shy entire share mum big realise underneath big shy puppy kind big walk', ' gentle chill good warm friendly face gentle calm good ride confidence easily walk patient young kid', ' wander aimlessly toa payoh save authority loom lasso ready capture kind scoop hesitation run irresponsible dirty bite bug cause problem cite oh disease bite bug cure world alright shall nap imply total sweet', ' sweet postive base training scared big wide world good slowly gently interact specialized training', ' cartoon courage cowardly timid exist answer yes afraid loud vehicle navigate world easy task brave tasty small improvement whilst handsome chap lovely puppy able force free training little bravery world fast stress free confident companion wait guide light stimulate mind puzzle trick enter crate mat bit bravery scare play hide seek avoid interact specialized training', ' sweet affectionate companion gentle low energy enjoy sleep away signature boop lie foot work develop separation anxiety destructive correct training willing work separation anxiety confident doggo delight walk tug loving pooch warm little take blossom joyful warm loving deserve', ' calm quiet friendly positive babesia heartworm walk leash', ' shy quiet reserved good absolutely insecure comfort frightened protector walk beautiful bond pair special', ' finally wonderful sweet character walk leash follow lead warm quietly sit extraordinary charm groom lick face tolerant maybe enjoy attention set beautiful german whine talk sound whine', ' big sized weigh energetic play regular engage face experienced bite misunderstood good exterior inside famous bukit batok puppy hill bukit batok mrt station deep inside forest surrender line feral little trust entire aggression presently commercial boarding facility impossible greatly experienced trust', ' anxious insecure energetic spend entire mum little nervous walk outside leash trust effort secure confident patient own timid', ' goofy puppy mr jiak uninvited dewali goody kind pup fail chain food walk cuddle short unconditionally perfect upbringing understand intention worry trainer trial fun fruity kid belly rub exchange megawatt smile link', ' handsome heartworm moment nervous poop fear quickly spend extra comfortable hopefully ready complete heartworm', ' roam pasir ris happily hop strange shower lost hopefully claim till today past big small utter joy walk vollie generous lick good cuddle comfortable uncover certain behavior work food aggression mean careful offer meal sensitive mean interested work careful discipline manner teach ownership territory hold deserve enquire keen', ' ex later elderly folk move unable accept presence affectionate walk play water hot drink sociable', ' handsome pup lose exuberance young self nature safe enjoy playtime patient brave unfamiliar consistent humane comfortable handling slowly confidence process trick bag play trick quick learner run explore avoid enter supervision quick excite jump force collar harness frightened stall struggle leash interact specialized training', ' north twin alike character similar shy nature warm inside reserve nature little child fun kid intrigue follow toddler involve fun awaken inner nature', ' hide weak emaciate quickly medley infect blotchy urinate urinary tract infection uti barely ray suggest moment poorly hospital regain strength discharge course complete uti bright pass able face tale sign tough hard remain sweet gentle proper hopeful good consider deserve keen senior write', ' loitering inside nursery worker chase away scare customer news incident drive arrival realize young coaxing introduction straight carry lap case abandonment sit leash avoid wear suspicion tie leash leash fine lead wait set small walk surprisingly walk affirm common puppy cute cuddly responsibility walk teach etc chose easy option lame excuse downgrading child work busy finance mental capacity foresee ahead obviously case run away responsibility commitment poorly teach teach control play bite bruise play bite onward improvement', ' friendly warm instantly kiss face demand affection long good deserve possible', ' friendly affectionate enjoy getting fuss terrify panic attack pour chew enclosure door whine anxiety settle crate bit comfortable work overcome fear safe injure anxiety', ' offspring sept huge canal blind skinny skinny certain pregnant worm veterinarian physical assessment follow lo behold puppy safe clean wash away canal drown self dig pit huge canal follow save', ' mean good good pup calm gentle settle smile wide pass wagging tough pup yound safe run scavage food', ' frightened anxious smart young spend nervous anxious spend encourage terrified wear harness walk confidently outside experienced patiently encourage trust loud frightened tolerant', ' noah early little likely take away obviously perspective slight clue take fruitless trapping verge puppy persist puppy interestingly calm got trap sleep soundly trap lie stretch outward relaxed position scream soft slight dissatisfaction disturb sleep easily bare carrier struggle poo scared eat food arrive hour later pack special speak', ' nervous quiet shy spend sweet quiet reserved character enjoy hang confidence comfort outside walk whine excitement leash', ' cute little puppy aggression settle little fearful insecure pant sweet little underneath stick comfort sit enclosure trust', ' passionate active enjoy outside walk run rough wrestling constantly ask affection enjoy good belly rub roll ask strong leash good experienced active lifestyle', ' charming sweet friendly move cheerful resilient living beautiful stop visitor track', ' sweet friendly affection attention suited', ' friendly aloof enjoy comfortable walk leash pace', ' shy disposition trust confident companion assurance venture break fuss free walk good roll', ' shy warm affectionate ask quiet walk rub', ' confident loyal good guard individual young kid moment protective folk walk sweet good rub moment bit jealous attention treasure outside water swim getting hose dunk bucketful water good large living ideally', ' active playful', ' friendly affectionate company', ' cautious enjoy walk walk alongside bite leash harness recommend quiet calm patient experienced greatly separation anxiety', ' sweet easy capture kind enjoy affection walk fuss free great', ' handsome rottweiler possess friendly nature waggy excellent indoor careful furniture shredding claw furniture consider eager overly excitable perceptive read mood seek attention free content wait pay attention', ' shy warm food motivated peepad aggression walk leash long settle', ' little shy quiet calm walk leash', ' confident cheeky active walk leash', ' sweet bit reserve warm transform playful', ' exuberant friendly playful stand lick face welcome food disturb eat experienced strong walk take short walk afraid loud horn', ' charmer instantly run affection motivate good rub great great pup firm control walk', ' shy warm little work trust sweet surrounding bit walk leash calm assertive confidence walk', ' shy curious warm sweetie little show walk hover arm length gently pet pet stand arm tired pet curl bed warm quick food motivate bribery great win walk tremendously startled typically flight mode kick prefer walk comfortable reason calm experienced hold panic calm walk good quieter young child entertaining walk busy walk mt faber prefer quick sniff typically calm confident trust sweet available mt faber', ' shy break gentle enjoy tender blossom wonderful companion', ' quiet low maintainance food motivated affectionate matured active walk small cosy temperament fact easy walk timer consider unit friendly', ' eager play frequently ask good belly rub ask walk leash cheeky inexperienced affectionate snap good child pup experienced', ' bit warm sweet affectionate good active child playful swim', ' playful friendly puppy mouthy food motivated fine confident leash', ' friendly walk leash pace flop walk roll bask sunny weather cute sight', ' intelligent alert warm', ' sweet disposition take warm paper understand basic walk', ' shy curious motivated walk leash cautious outside', ' playful friendly midst walk leash pad', ' golden pointy nervous slowly confidence walk confident willing guide secure walk confidence', ' confident high energy playful walk alpha display dominance', ' gentle willing sweet super docile great kid food drive', ' guard nervous face sufficient absolute sweetheart intelligent playful endear experienced sensitive expertise work', ' super affectionate great child fine playful cheeky active high energy', ' long puppy scared warm face motivated sniff cautiously able walk leash patient young child', ' sweet affectionate good walk smile plaster face scratch shadow follow enjoy walk', ' fair bit familiarise trust playful affectionate enjoy good chest belly rub walk leash good kid experienced firm', ' cantonese seed friendly door active enjoy run play strong leash excitement firm', ' shy hesitant trust affection', ' pack big round floppy labrador puppy hug', ' friendly sociable tall big physique affectionate handsome good easily excitable walk experienced tug strongly harness young child', ' guess death playful active little sweetheart strong willed bold true survivor show affection playfully finger whimper softly quiet', ' incredibly friendly jump excited puppy energy rough play listen walk experienced puppy enthusiasm strongly recommend engage professional trainer work consistently exuberant behaviour', ' attention walk friendly warm affectionate energetic excited leash strongly experienced prefer', ' handsome take warm face nervous walk dart crouch loud firm confident confidence blossom playful cheeky', ' sweet natured little shy gentle slowly endearing companion trust walk leash regular assurance suited patient confidence', ' lovable obedient waggy unfamiliar face warm', ' shy take warm affectionate food motivate good', ' friendly intelligent food motivated basic sit walk leash', ' effervescent excitable friendly excited enjoy walk guide leash', ' quiet super sweet little shy good food motivate walk leash', ' shy warm confident gentle confidence work walk great multi protection guidance young child ideal', ' excited chirpy good belly scratch snap outdoors walk leash good child experienced', ' gentle little shy friendly enjoy walk leash', ' timid shy away whilst shy transform affectionate curious display playful warm comical quizzical expression charm adult teenager settle fun', ' special puppy understand cope condition bright zest attention room trot confidently affectionately permanent defect nerve damage rectum lead little unable naturally express bowel assistance stimulate nerve aid bowel improvement regular acupuncture therapy nonetheless patient dribbling poop incontinence expect yard bonus outdoorsy', ' friendly lovable rocco goofball attention pamper good structured routine active walk strong excitement occasional lunge pet orient preferable', ' walk little barkish excited attention', ' friendly lay calm easy walk leash', ' spirited active good run wrestle expressive show affection clamber lean strong walk lunge great kid experienced active lifestyle', ' super friendly affectionate playful active', ' shy quiet motivated walk leash relax outside', ' handsome loving take short warm great follower good firm high energy food motivated run keen long walk business outside', ' interact mellow soul enjoy moment bit hump physically strong equally strong line occasionally walk leash good child dominant past', ' shy take awhile warm affectionate thrive company fare', ' eat sleep pad company seek comfort company food prefer fed attention carry', ' cantonese red bean confident friendly run active good run play strong leash excitement firm', ' intelligent confident charismatic fellow lead handsome enjoy affection frequently ask good scratch rub selective snappy territorial size strong child dominant', ' active confident interact leash excitement outdoors territorial food experienced active lifestyle', ' sweet namesake smart food motivate typical energetic inquisitive puppy face warm', ' cautious occasionally sound presence kiss reciprocate scratch neck enjoy food motivated good enjoy outside mean run walking inconsistent hard jump leash excitement active patient firm work leash training bonding session trust affectionate cuddly companion', ' act big puppy playful affectionate bit rough strong lead walk firm', ' calm demure shy befriend walk reluctant leash walk okay outside calm patient confidence patient young child', ' gentle mild mannered independent enjoy lounge walk leash calm walk enjoy greenery prefer walk pace', ' wetland east huge canal face risk swipe away torrential grayish stunning little medium vaccinate microchippe healthy excellent pad potty leash sleep crated average hour playful teethe young kid play exercise socialisation ensure good young hour exciting enthusiastic pal', ' puppy', ' good child smart observant mean endurance', ' result intentional hill coordinate round hill pup hiding pup hour mean strong hardy shy friendly', ' cute small walk leash', ' xander roam fringe road entrance court megamart carpark gate tiny realize presence got stick fencing scream away discover quickly grab hold mean quick strong desire', ' opposite tampine court megastore past rapidly deforest commercial development finally spite countless fail expressive affectionate', ' result intentional hill coordinate round hill pup hiding pup hour mean strength not impressive photo cow spot shade adorable gorgeous shy gentle warm easily', ' reflect foxy pierce beautiful small curly bushy calm walk little shy newly', ' sweet food motivate walk leash sociable', ' cool calm panic expose wear harness walk respect newbie play eat picky wait patiently meal', ' gentle patient fend will not', ' trailer lose scatter hide tiny gap tyre slow tiny run safety arise trailer move matter particular trailer move crush brim affectionate playful inquisitive teachable', ' intelligent calm average settle settle immediately walk take leash immediately pace nicely choke struggle', ' shy slow warm intelligent trick hide treasure sit observe good consistent beautiful surface', ' shy sweet eat eat tasy unhealthy neck taste bud tune healty', ' term overly friendly face enthusiastically jump hate dependent type character walk leash listen scold business walk', ' confident dare fast observant balanced stable', ' settle pretty quickly sweet pair big big standing eat', ' loyal ride swim beach affectionate hug', ' fish emaciate small food water provide deny say fish food gobble immediately ask away agree fearful social till protective food starve long', ' puppy', ' afraid uncertainty disappear fearless play eat adult freely walk sniff friendly good confident good', ' easy term carry clean wait desmond founder prosthetic company kindly prosthetic run nature outdoor', ' pleasant sweet character afraid ready provide safe corner cover table hide away happen', ' mean leader pack puppy', ' mean pure puppy', ' cite arrival grandchild big main reason setting sweet selective calm chill hyper active affection chew', ' trailer lose scatter hide tiny gap tyre slow tiny run safety arise trailer move matter particular trailer move crush brim affectionate playful inquisitive teachable', ' accidental injure skinny thankful heartworm positive babesia gibsoni positive condition fatal late save promptly organ good condition good recuperate sweet cute short wiggle food motivated pack caring sense newbie take young later follow big', ' big unique colored unique walk leash', ' quiet term little shy slow warm calm gentle prolapse easily correct', ' raze ground fend calm cool walk good relaxed pace ride walk eat good relieve roof regular meal', ' calm good natured easy later curious outnumber remain calm charismatic', ' sible playful loving slightly different', ' sible playful loving slightly different', ' curious desire regard dangerous vicinity eat play', ' greedy easy eater sweet trust observe engage capture negative understand slowly comfortable sleep bed', ' take trust cautious trap neuter release program traumatic understand deep sleep operate unfamiliar release nonetheless understand mean harm observe', ' hop relaxed walk ride outing spot cuddle corner roll enjoy swim', ' sweet small sized badly matted condition mild gentle shave arrival inside gum possible tie nature bind waist abuse homeless case', ' existence miraculous happening capture limp disappear long reappear emaciate die survive limp completely restore abnormality walk', ' pretty fast food drink sweet making', ' shy sweet beautiful pleasant character sense deal face basis sit apply medicine stroke wonderful making', ' noami timid settle walk play abit wear physically obviously smooth scar special scar good curious meaningful tug noami', ' usual say eat retreat little min clean face problem handsome photo hopefully prompt', ' sweet able freely follow careful newly totally cool limp rosehip therapy strength remain long not', ' fussy eater gentle walk lead', ' outgoing fearless gel pack sleep comfortably intelligent mean peace', ' bond caregiver long settle average loyal', ' confidence appear defensive sweet loyal obedient settle realize safe', ' wonderful sweet character walk leash follow warm quietly sit extraordinary charm groom lick face tolerant maybe enjoy attention set beautiful german whine talk sound whine', ' sociable puppy adapt easily intelligent retreat luck adult little bit naughty protect', ' sweet correctly important foundation training good', ' sweetest scared strange calm follow attention gentle behave able walk mean gift laughter', ' sweet harsh veterinarian suspect blind puppy plague sickness survive overcome sickness repair blind cause pain discomfort limited vision average smart survive fake newspaper cover cleanly splendid puppy enable healthily', ' opposite tampine court megastore past rapidly deforest commercial development finally spite countless fail calm affectionate', ' opposite tampine court megastore past rapidly deforest commercial development finally spite countless fail quiet hide playful settle', ' follow repeat sighting bunch puppy skinny smart puppy observant quick learner sociable', ' play young popular fun tolerant shy face hide little bit sensitve gentle rough', ' tiny drain hole force hole order rainy season drain easily flood matter endanger little timid take sterilization dump wild good connection young take tiny malnutritioned fast negative reaction', ' development stage suffice cute smart presence puppy young term good', ' good child yr child walk regularly unsocialized accordingly ex dislike small excitable', ' active high energy walk walk leash vocal loud vocal loud barkish attention stop high energy active lifestyle leash enjoy walk firm guide', ' quiet independent gentle shy aggression observe timid lovely shy little mth baby adapt world work display sign aggression blossom tender', ' quiet independent inquisitive outdoors walk leash timid observant jordan food motivate independent quietly play fill jordan observe surrounding quietly curiously outdoor leash training work', ' sign aggression sweet natured training boarding share condition boarding good living condition furry baby provide typically high survival instinct escape artist alertness leash leash training break leash escape show aggression sweet temperament confident excel', ' sign aggression sweet natured training boarding share condition boarding good living condition furry baby provide typically high survival instinct escape artist alertness leash leash training break leash escape show aggression sweet temperament confident excel', ' aggression good unfamiliar face walk leash spend explore curiously walk leash surrounding slowly', ' sign aggression sweet natured training boarding share condition boarding good living condition furry baby provide typically high survival instinct escape artist alertness leash leash training break leash escape show aggression sweet temperament confident excel', ' walk walk anytime take leash little twirly whirly dance helicopter good understand simple sit wait good manner nice course patient spook easily raise voice shout dramatic gesture posture scared assure calm quickly rub hug cuddle sit lap happily carry whine bit show attention read walk sosd folk speed dating session curious handsome pinscher interest bite firm willing good separation anxiety ready aggression young child write able', ' sweet warm current covid situation able regularly spend comfortable able walk outside', ' nervous food motivated food anxious rainy seek safe spot hide', ' gentle giant weigh pack appear leader gang brave slight urgency walk comfortable headway minded', ' shy take long walk nervous walk good patient confident careful lose walk', ' long puppy vaccinate mean wall play pen bite wag happily leash little sniff great walk leash able take proud', ' quiet contented understand sit food walk sleep chew walk reasonably leash sleep room sleep chew cushion blanket pretty low energy patient take long trust interact snap threaten child', ' friendly carefree able run fishfarm change caregiver unwilling intention sterilize chew hole cage run gotten injure seek round calm content safe', ' comfortable presence avoid squirm away interact warm realize harm', ' eat weak eat heartily walk bit relieve perk walk leash low energy spend aloof fine supplement comfortable drop spend comfortably safely', ' sweet warm fairly quickly warm affectionate enjoy neck scratch food motivate', ' pup mom gotten tall scared good charm affectionate', ' poise fail long slender lay master great self control wait food impressive pleased sit presence fight urge chase course little excited befriend', ' take pain limp badly original factory spondylosis pain killer cope friendly affectionate solicit able', ' young pup persistant appeal past condition likely remain bald put food trial quickly long term medication remain sweet affectionate enjoy kind deserve', ' spunky active boundless energy exercise training engagement friendly overexuberant fit active energy', ' exuberant little enthused walk', ' snap pay warm wag happily rub take warm confidence leash patient', ' somebody unfortunate src friendly rub affection affectionate quick temper snap mood cuddle read language careful trust able spend', ' sweetest enjoy company rub ask limp specialist show simple sample show abnormal run heartworm remain jovial current', ' fairly warm fair bit excited jump walk leash apprehensive stressful confident', ' gape snout temple likely remain sweet affectionate jump joy good active fun leash shower nipping frenzy firm able expand energy exercise mental', ' chill dude spend chill enclosure use food entice nonchalent calm quiet golden', ' pretty aloof affectionate quirky dislike soft growling escalate snap slowly surprise able warn snap suddenly mood socialise kid curious playful sniff uncomfortable sniff initiate play politely jump suddenly excitement interpret aggression peepad walk perfectly tug eager sniff food food greedily eat play sit rub weird dislike tolerate sensitive neck underside chest belly etc leash nail cutting tolerant say socialise tolerant sensitive instance', ' sterilize trap puppy authority complaint meek afraid heartworm concurrently warm heartworm', ' accident pup heal point say intervention worksite worker trouble defacate cause constipation clear bowel able provide proper ensure healthy comfortable', ' roam suspect pad anxious small willingly crate seek refuge great low energy enjoy take slow walk little hard hearing raise voice slowly hang sense dull cataract pretty sharp food forage food food remain rubbish spite rough healthy work weak severely malnourish walk wag hop meal walk keen senior permanent', ' stand outside enclosure lunge enter clean enclosure food glow bit enjoy twice walk scratch greedy long slow work comfortable', ' sweet puppy bond previous take great change happen maybe trigger anxiety guarding ferociously outdoors boisterous friendly difficult spot uncomfortable display sign anxiety afraid food environmental control anxiety guard great companion food motivated game fetch enjoy long walk friendly excitement sniff initiate play independent challenge perfect training proper able settle comfortably take consistency anxiety guard idea willing walk child', ' shy take observe quietly slowly okay meal hopefully opportunity comfortable', ' xiaobai sweet poor immune develop horrid run slowly improvement twice cleaning patient lift stand half hour finally clear cure mrsa short walk twice walk superbly leash selective able conducive', ' sick mysterious illness reduce caretaker painstakingly nurse strong tough today affectionate regular protective bite walk experienced firm', ' bail limited fear sleep develop bad untreated able moment comfortable walk leash', ' fearful enter unit scramble disappear wall take slow slightly comfortable presence heartworm', ' big goofy absolutely shower insecure food motivate long warm warm affectionate excitement walk quickly overwhelmed scary', ' real cutie pie warm whine excitedly walk leash outside confidence take blossom brave loving', ' free spirited enjoy freedom complaint smart careful bond teach walk leash chew leash worried lose', ' stuck swamp alert kind sight spot howl trouble scavenge food assume wit safety quickly obvious discomfort pain snarl aggressively sweet pain cope able prop enjoy walk review schedule good recovery comfortable', ' late hard goofy sweet oh yes funny endear arrive low energy meek sick recovery completely transform chirpy absolutely loyal wait patiently arrive whine pure joy arrive follow settle contently stare solicit truly impossible situation great reactive introduce prefer fine take short twice break lazy walk real honest exactly maybe settle behave puppy truly deserve roam good retire comfort', ' low energy adorable sweetheart chew furniture react nap walk quiet late park away enjoy walk main road busy loud tug independent able sleep occasionally whine able calm patient', ' wander gleefully carry crate different bite puzzle sweet sweet affection melt embrace careful interact sweetheart active active child bite slow able pay attention language interact trust bite incident happen', ' affectionate excitable hyper fearful tuggish walk luck shine parent stress free contain excitement anxiety walk pretty reduce act stalk room walk walk leash avoid scared stop track encouragement walk excited walk past occasionally persistently fortunately play chew patiently wait super greedy cautious food terrify comforting sit expert air work term excitement walk patient calm', ' handsome bad aggression deep crave puppy drive loose cause pain discomfort discover pretty food aggression guard behaviour adoptive bite bite face certain fate fortunately fed walk shower caution work slowly introduce safely sweet affectionate enjoy extended period suddenly bite fact lone pup clean pain cause distrustful guard food fiercely guard fiercely bare stand gate room lay bad lay good good mindful guard long period pretty fuss free respect realise social cuddle aggressive guard safely enjoy easy']\n"
          ]
        }
      ]
    },
    {
      "cell_type": "markdown",
      "source": [
        "## **Build Up the Language Processor**"
      ],
      "metadata": {
        "id": "LAbhkYpIEtbq"
      }
    },
    {
      "cell_type": "code",
      "source": [
        "def my_preprocessing(raw_sentence):\n",
        "    nlp_tool = spacy.load('en_core_web_sm')\n",
        "    token_sentence = nlp_tool(raw_sentence.lower())\n",
        "    with open('./irrelevant_words.txt') as file:\n",
        "        irrelevantlist = [stopword.replace('\\n', '').lower() for stopword in file.readlines()]\n",
        "#     new_sentence = [word for word in token_sentence if word not in irrelevantlist]\n",
        "    \n",
        "    preprocessed_sentence = []\n",
        "    \n",
        "    for token in token_sentence:\n",
        "        if token.pos_ == \"PUNCT\" or token.is_stop == True or token.is_alpha == False or token.pos_ == \"SYM\":\n",
        "            continue\n",
        "\n",
        "        elif token.lemma_ in irrelevantlist or len(token)==1:\n",
        "            continue\n",
        "            \n",
        "        else:\n",
        "            preprocessed_sentence.append(token.lemma_)\n",
        "            \n",
        "    return preprocessed_sentence\n"
      ],
      "metadata": {
        "id": "mYfkXLM9E3K6"
      },
      "execution_count": 21,
      "outputs": []
    },
    {
      "cell_type": "markdown",
      "source": [
        "## **Content-Based Recommendation**"
      ],
      "metadata": {
        "id": "2JRjfY4ZbAWT"
      }
    },
    {
      "cell_type": "code",
      "source": [
        "# Calculate the cosine similarity between two dogs\n",
        "def cosine_similarity(dog_x,dog_y,only_description):\n",
        "  numerator = 0\n",
        "  denominator_x = 0\n",
        "  denominator_y = 0\n",
        "  for i in range(1729):\n",
        "    numerator += dog_x['tfidf'+str(i)]*dog_y['tfidf'+str(i)]\n",
        "    denominator_x += dog_x['tfidf'+str(i)]**2\n",
        "    denominator_y += dog_y['tfidf'+str(i)]**2\n",
        "  if only_description == False:\n",
        "    numerator += dog_x['Gender']*dog_y['Gender']+dog_x['HDB']*dog_y['HDB']\n",
        "    denominator_x += dog_x['Gender']**2+dog_x['HDB']**2\n",
        "    denominator_y += dog_y['Gender']**2+dog_y['HDB']**2\n",
        "\n",
        "  denominator_x = math.sqrt(denominator_x)\n",
        "  denominator_y = math.sqrt(denominator_y)  \n",
        "\n",
        "  return (numerator/(denominator_x*denominator_y))\n",
        "\n",
        "# Find similar dogs\n",
        "def get_similar_dogs(inputdog,target_num,only_description):\n",
        "  similarity = []\n",
        "  for i in range(335):\n",
        "    similarity.append(cosine_similarity(inputdog,data.loc[i],only_description))\n",
        "  max_index = list(map(similarity.index, heapq.nlargest(target_num+1,similarity)))\n",
        "  # max_index.pop(0)\n",
        "  max_value = heapq.nlargest(target_num+1,similarity)   \n",
        "  # max_value.pop(0)\n",
        "  return [[max_index],[max_value]]\n",
        "\n",
        "# Build a user_reviewed_dog according to his/her previous selections\n",
        "def user_reviewed_dog(dogs_selected,gender,hdb):\n",
        "  dog_profile = []\n",
        "  dog_profile.append(999)\n",
        "  dog_profile.append('DreamDog')\n",
        "  dog_profile.append(gender)\n",
        "  dog_profile.append(hdb)\n",
        "  dog_description = ''\n",
        "  for dog in dogs_selected:\n",
        "    # print(dog['Corpus'])\n",
        "    dog_description+=dog['Corpus']\n",
        "  # print(dog_description)\n",
        "  dog_profile.append(dog_description)\n",
        "  new_corpus = []\n",
        "  for i in corpus:\n",
        "    new_corpus.append(i)\n",
        "  new_corpus.append(dog_description)\n",
        "  # print(len(new_corpus))\n",
        "  vectorizer = CountVectorizer()\n",
        "  word_vec = vectorizer.fit_transform(new_corpus)\n",
        "  transformer = TfidfTransformer()\n",
        "  tfidf = transformer.fit_transform(word_vec)\n",
        "  tfidf_matrix = tfidf.toarray()\n",
        "  # print(tfidf_matrix.shape)\n",
        "  # print(tfidf_matrix.shape[0])\n",
        "  for i in range(tfidf_matrix.shape[1]):\n",
        "    dog_profile.append(tfidf_matrix[335][i])\n",
        "  dtf = DataFrame()\n",
        "  dtf['Dog_No'] = [dog_profile[0]]\n",
        "  dtf['Name'] = [dog_profile[1]]\n",
        "  dtf['Gender'] = [dog_profile[2]]\n",
        "  dtf['HDB'] = [dog_profile[3]]\n",
        "  dtf['Corpus'] = [dog_profile[4]]\n",
        "  for i in range(tfidf_matrix.shape[1]):\n",
        "    dtf['tfidf'+str(i)] = [dog_profile[5+i]]\n",
        "  return dtf.loc[0]\n"
      ],
      "metadata": {
        "id": "ZBWbc5Hfu0F3"
      },
      "execution_count": 22,
      "outputs": []
    },
    {
      "cell_type": "code",
      "source": [
        "print(get_similar_dogs(data.loc[12],5,only_description=True))"
      ],
      "metadata": {
        "id": "iChy6EC9JQCf",
        "colab": {
          "base_uri": "https://localhost:8080/"
        },
        "outputId": "2cf1efba-470a-432f-b585-844672e3dca5"
      },
      "execution_count": 23,
      "outputs": [
        {
          "output_type": "stream",
          "name": "stdout",
          "text": [
            "[[[12, 20, 123, 146, 28, 33]], [[1.0, 0.24389064661054394, 0.17461004105717134, 0.1722439908977591, 0.16243838142141387, 0.1350135131165665]]]\n"
          ]
        }
      ]
    },
    {
      "cell_type": "code",
      "source": [
        "dogs_selected = [data.loc[12],data.loc[32],data.loc[234],data.loc[43]]\n",
        "dream_dog = user_reviewed_dog(dogs_selected,1,1)\n",
        "print(dream_dog)\n",
        "\n",
        "get_similar_dogs(dream_dog,10,True)"
      ],
      "metadata": {
        "id": "7cBnoEG6JcUD",
        "colab": {
          "base_uri": "https://localhost:8080/"
        },
        "outputId": "2f6834af-2660-4a15-b2f9-6a751c0b336d"
      },
      "execution_count": 24,
      "outputs": [
        {
          "output_type": "stream",
          "name": "stderr",
          "text": [
            "/usr/local/lib/python3.7/dist-packages/ipykernel_launcher.py:65: PerformanceWarning: DataFrame is highly fragmented.  This is usually the result of calling `frame.insert` many times, which has poor performance.  Consider joining all columns at once using pd.concat(axis=1) instead.  To get a de-fragmented frame, use `newframe = frame.copy()`\n"
          ]
        },
        {
          "output_type": "stream",
          "name": "stdout",
          "text": [
            "Dog_No                                                     999\n",
            "Name                                                  DreamDog\n",
            "Gender                                                       1\n",
            "HDB                                                          1\n",
            "Corpus        bambi bertha bradley brandon stick power grid...\n",
            "                                   ...                        \n",
            "tfidf1765                                                  0.0\n",
            "tfidf1766                                                  0.0\n",
            "tfidf1767                                                  0.0\n",
            "tfidf1768                                                  0.0\n",
            "tfidf1769                                                  0.0\n",
            "Name: 0, Length: 1775, dtype: object\n"
          ]
        },
        {
          "output_type": "execute_result",
          "data": {
            "text/plain": [
              "[[[12, 234, 234, 43, 32, 20, 123, 28, 33, 146, 36]],\n",
              " [[0.707775921817555,\n",
              "   0.6028611981913166,\n",
              "   0.6028611981913166,\n",
              "   0.3594546679771134,\n",
              "   0.24096019534387375,\n",
              "   0.1966222899614445,\n",
              "   0.16370515518623865,\n",
              "   0.14688475676236012,\n",
              "   0.1298192438406726,\n",
              "   0.11946013237599962,\n",
              "   0.10965764210907147]]]"
            ]
          },
          "metadata": {},
          "execution_count": 24
        }
      ]
    },
    {
      "cell_type": "code",
      "source": [],
      "metadata": {
        "id": "wHnF92PUkPCB"
      },
      "execution_count": null,
      "outputs": []
    },
    {
      "cell_type": "markdown",
      "source": [
        "## **Recommender for new users**"
      ],
      "metadata": {
        "id": "TXQlTlVC_NjE"
      }
    },
    {
      "cell_type": "code",
      "source": [
        "# class user():\n",
        "#   def __init__(self,userid,dog_gender,dog_hdb,dog_age,dog_description):\n",
        "#     self.userid = userid\n",
        "#     self.dog_gender = dog_gender\n",
        "#     self.dog_hdb = dog_hdb\n",
        "#     self.dog_age = dog_age\n",
        "#     self.dog_description = dog_description"
      ],
      "metadata": {
        "id": "903GtpmX_Wmp"
      },
      "execution_count": null,
      "outputs": []
    },
    {
      "cell_type": "code",
      "source": [
        "# class new_recommender():\n",
        "#   def __init__(self,corpus):\n",
        "#     self.corpus = corpus\n",
        "\n",
        "\n",
        "\n",
        "def filter(gender,age,hdb):\n",
        "  filtered = []\n",
        "  for i in range(335):\n",
        "    if data.loc[i,'Gender'] in gender:\n",
        "      if data.loc[i,'Age'] in age:\n",
        "        if data.loc[i,'HDB'] in hdb:\n",
        "          filtered.append(data.loc[i])\n",
        "  return filtered\n",
        "\n",
        "def generateNewCorpus(dog_filter, dog_description):\n",
        "  print(len(dog_filter))\n",
        "  # print(dog_filter[3])\n",
        "\n",
        "  user_dog_des = my_preprocessing(dog_description)\n",
        "  print(user_dog_des)\n",
        "  user_dog_des_str = ''\n",
        "  for word in user_dog_des:\n",
        "    user_dog_des_str += word\n",
        "    user_dog_des_str += ' '\n",
        "  corpus_new = []\n",
        "  corpus_new.append(user_dog_des_str)\n",
        "  for dog in dog_filter:\n",
        "    corpus_new.append(dog['Corpus'])\n",
        "  print(len(corpus_new))\n",
        "  # print(len(corpus))\n",
        "  print(corpus_new)\n",
        "  return corpus_new\n",
        "\n"
      ],
      "metadata": {
        "id": "mrLBbCh1_3yp"
      },
      "execution_count": 25,
      "outputs": []
    },
    {
      "cell_type": "code",
      "source": [
        "def getTargetDogs(dog_description):  \n",
        "  dog_filter = filter([0],[1,3],[1])\n",
        "  vectorizer = CountVectorizer()\n",
        "  corpus_new = generateNewCorpus(dog_filter, dog_description)\n",
        "  word_vec = vectorizer.fit_transform(corpus_new)\n",
        "  # print(word_vec.toarray())\n",
        "  # print(vectorizer.get_feature_names())\n",
        "  transformer = TfidfTransformer()\n",
        "  tfidf = transformer.fit_transform(word_vec)\n",
        "  tfidf_matrix = tfidf.toarray()\n",
        "  print(tfidf_matrix.shape)\n",
        "  # print(tfidf_matrix)\n",
        "  # print(tfidf_matrix[71][1])\n",
        "  cosim = []\n",
        "  denominator_user = 0\n",
        "  for j in range(tfidf_matrix.shape[1]):\n",
        "    denominator_user += tfidf_matrix[0][j]**2\n",
        "  denominator_user = math.sqrt(denominator_user)\n",
        "  for i in range(1,tfidf_matrix.shape[0]):\n",
        "    numerator = 0\n",
        "    denominator_target = 0\n",
        "    for j in range(tfidf_matrix.shape[1]):\n",
        "      numerator += tfidf_matrix[0][j]*tfidf_matrix[i][j]\n",
        "      denominator_target += tfidf_matrix[i][j]**2\n",
        "    denominator_target = math.sqrt(denominator_target)\n",
        "    cosim.append(numerator/(denominator_user*denominator_target))\n",
        "\n",
        "  target_num = 5\n",
        "  max_index = list(map(cosim.index, heapq.nlargest(target_num,cosim)))\n",
        "  max_value = heapq.nlargest(target_num,cosim)\n",
        "  print(max_index)\n",
        "  print(max_value)\n",
        "\n",
        "  for index in max_index:\n",
        "    print(dog_filter[index]['Corpus'])\n",
        "  return max_index\n",
        "\n",
        "dog_description = \"I like a smart dog\"\n",
        "target = getTargetDogs(dog_description)\n",
        "print('target:', target)"
      ],
      "metadata": {
        "id": "D869f3bkA0PC",
        "colab": {
          "base_uri": "https://localhost:8080/"
        },
        "outputId": "7f78e423-a46e-4cbc-fd36-e3fe8465d736"
      },
      "execution_count": 35,
      "outputs": [
        {
          "output_type": "stream",
          "name": "stdout",
          "text": [
            "71\n",
            "['smart']\n",
            "72\n",
            "['smart ', ' absolute darling food take medicine food aggression starve point confident trust independent separation anxiety company story able smiley face', ' tip tiny bit smart unfamiliar pretend calm fine cool pup mesmerize pup puppy inside', ' eat handfeed meal eat fearful take trust cheer confidence', ' ash young mum hard gentle nurture soul shine quiet thoughtful smooch happily trick caring compassionate confidence understand bit shy ideal child pet perfect companion quiet friendly pet good manner ash pup bail pound save euthanize petite size perfect ash great compassion shy young mum proud irresistibly adorable pup nervous doggie timid nature encounter warm low maintenance gentle opportunity explore perfect companion furry chill petite size sharp feature narrow bridge large pointy ash shiny beauty throw curveball shyness noticed easily forget long special true affectionate beauty lie beauty lie', ' long aggressive threaten attack fear change enjoy walk enjoy affection company good toddler small young child', ' submissive shy crave companion peek patiently wait food shy timid bad warm cut solitary figure parking commercial compound ang mo kio dart everyday gardener office staff witness deliver pup conscientious hide pup harm ensure hungry throw food eat challenge food danger pup run difficult baby chase escape gentle little warm', ' break survive heal mend walk learning trust low maintenance easily contend frequent walk sweet sensitive attention diamond rose blossom ordinary extraordinary pal', ' cuddly curious little cautious joy bravely finish heartworm ready beauty cuddle attention little curious outside loud patient work confidence walk couch snuggle', ' loyal friendly nervous surrender lovely loyal anxious surrender allegedly bite suggest bit possessive child behaviour walk behaviour result frightened loud happen outside patient resettle', ' crush death machinery mild natured perfect kid', ' sociable friendly relaxed sweet independent lose captain naturally little lose good enjoy explore stretch relaxed perfect companion curl couch captain truly offer', ' shy sweet quiet sweet affectionate super shy face guess stop share good guidance support eat play walk sleep trust smart bad', ' bubbly young worker big size spaniel play fetch long run stroll work enjoy company young mind little cheeky appreciate firm good little scar damage destroy true beauty guess small pretty enchant', ' jurong island caregiver loving interactive take warm cataract little insecure gotten line sweet willing past insecurity warm', ' handicap low spine cripple waist crawl chest drag painfully rough gravel spot jurong island hard food swallow gravel pin alleviate gnaw hunger hard baby fate change mr kind muslim work attention changed clearly enjoy lease unfortunate episode threaten away chest infection haze blockage brave valiantly admirably warrior condition wobbly unable control poo acupuncture hydrotherapy able walk normally bundle joy good fortune sweet natured fun playful puppy proper deserve', ' approx outram long terrified pup walk confidently leash scritche play crazy sis run shy take warm pup pup gentle sniff situation quickly nervous energy nervous shy away aggressive good adult child sible speed play chill snooze away overall behave sweet quick learner rough mama blind slow hbd patient dedication structure lovely', ' beauty face beauty cut kind thick thin pregnancy fire warm lose process destination embark lifetime fun fact alfa', ' sweet shy nervous lifetime horrifying condition chain cage entire save chain action comfortable indoor outdoors expect sweet walk harness leash patient world scary deserve', ' good shy indoor avs catcher petrify take warm quiet gentle calm nature leash walk willing indoor walk leash', ' quiet timid kind gentle dame sweet friendly enjoy outside senior outdoors pleasure walk trot alongside patiently take stop lose good dandy pass away originally trap golden wait long', ' recent batch jurong island shy warm rub kangaroo leash kangaroo lead afraid leash', ' comfortable easily win', ' shy excellent comfortable walk leash', ' mini sized mongrel super cute face nice shade friendly wag welcome walk leash moment expect confidence quickly quickly petite size sweet careful install window grill agile climb scale er enclosure fence', ' attention loiter trap neuter release feedback run road matter gets sterilization spay fearful clinic cage surprisingly arrive appear fairly relaxed wag show sign aggression leash matter important wander', ' quiet shy sweet gorgeous affectionate kind share son company gentle confident cuddle enjoy walk outdoor adventure walk leash pace calm support senior', ' confident dare explore afraid photo angel cute choose mean peace safety italian lord enable save', ' wonderful walking partner tv experienced dedicated single fear hide good kid kid walk outdoor gentle cuddle good swim roll mud play charming doggie selective adapt walk healthy outdoor', ' beautiful young energy active playful great outdoors', ' affectionate charm gaze smooth wavy lock raise safe take walk terrify rainy display fear aggression apartment living send work trust safe company foreign', ' gentle chill good warm friendly face gentle calm good ride confidence easily walk patient young kid', ' wander aimlessly toa payoh save authority loom lasso ready capture kind scoop hesitation run irresponsible dirty bite bug cause problem cite oh disease bite bug cure world alright shall nap imply total sweet', ' hide weak emaciate quickly medley infect blotchy urinate urinary tract infection uti barely ray suggest moment poorly hospital regain strength discharge course complete uti bright pass able face tale sign tough hard remain sweet gentle proper hopeful good consider deserve keen senior write', ' mean good good pup calm gentle settle smile wide pass wagging tough pup yound safe run scavage food', ' frightened anxious smart young spend nervous anxious spend encourage terrified wear harness walk confidently outside experienced patiently encourage trust loud frightened tolerant', ' passionate active enjoy outside walk run rough wrestling constantly ask affection enjoy good belly rub roll ask strong leash good experienced active lifestyle', ' charming sweet friendly move cheerful resilient living beautiful stop visitor track', ' shy disposition trust confident companion assurance venture break fuss free walk good roll', ' friendly affectionate company', ' shy warm food motivated peepad aggression walk leash long settle', ' shy break gentle enjoy tender blossom wonderful companion', ' quiet low maintainance food motivated affectionate matured active walk small cosy temperament fact easy walk timer consider unit friendly', ' shy hesitant trust affection', ' quiet super sweet little shy good food motivate walk leash', ' gentle mild mannered independent enjoy lounge walk leash calm walk enjoy greenery prefer walk pace', ' cute small walk leash', ' result intentional hill coordinate round hill pup hiding pup hour mean strength not impressive photo cow spot shade adorable gorgeous shy gentle warm easily', ' reflect foxy pierce beautiful small curly bushy calm walk little shy newly', ' sweet food motivate walk leash sociable', ' trailer lose scatter hide tiny gap tyre slow tiny run safety arise trailer move matter particular trailer move crush brim affectionate playful inquisitive teachable', ' term overly friendly face enthusiastically jump hate dependent type character walk leash listen scold business walk', ' fish emaciate small food water provide deny say fish food gobble immediately ask away agree fearful social till protective food starve long', ' sweet small sized badly matted condition mild gentle shave arrival inside gum possible tie nature bind waist abuse homeless case', ' existence miraculous happening capture limp disappear long reappear emaciate die survive limp completely restore abnormality walk', ' pretty fast food drink sweet making', ' noami timid settle walk play abit wear physically obviously smooth scar special scar good curious meaningful tug noami', ' sweet harsh veterinarian suspect blind puppy plague sickness survive overcome sickness repair blind cause pain discomfort limited vision average smart survive fake newspaper cover cleanly splendid puppy enable healthily', ' play young popular fun tolerant shy face hide little bit sensitve gentle rough', ' quiet independent gentle shy aggression observe timid lovely shy little mth baby adapt world work display sign aggression blossom tender', ' aggression good unfamiliar face walk leash spend explore curiously walk leash surrounding slowly', ' sign aggression sweet natured training boarding share condition boarding good living condition furry baby provide typically high survival instinct escape artist alertness leash leash training break leash escape show aggression sweet temperament confident excel', ' friendly carefree able run fishfarm change caregiver unwilling intention sterilize chew hole cage run gotten injure seek round calm content safe', ' comfortable presence avoid squirm away interact warm realize harm', ' sweet warm fairly quickly warm affectionate enjoy neck scratch food motivate', ' exuberant little enthused walk', ' sterilize trap puppy authority complaint meek afraid heartworm concurrently warm heartworm', ' roam suspect pad anxious small willingly crate seek refuge great low energy enjoy take slow walk little hard hearing raise voice slowly hang sense dull cataract pretty sharp food forage food food remain rubbish spite rough healthy work weak severely malnourish walk wag hop meal walk keen senior permanent', ' shy take observe quietly slowly okay meal hopefully opportunity comfortable', ' real cutie pie warm whine excitedly walk leash outside confidence take blossom brave loving', ' free spirited enjoy freedom complaint smart careful bond teach walk leash chew leash worried lose', ' stuck swamp alert kind sight spot howl trouble scavenge food assume wit safety quickly obvious discomfort pain snarl aggressively sweet pain cope able prop enjoy walk review schedule good recovery comfortable']\n",
            "(72, 713)\n",
            "[69, 1, 11, 34, 56]\n",
            "[0.22034329501966915, 0.21111064713868025, 0.20571434291313911, 0.153124429610676, 0.12923316151858005]\n",
            " free spirited enjoy freedom complaint smart careful bond teach walk leash chew leash worried lose\n",
            " tip tiny bit smart unfamiliar pretend calm fine cool pup mesmerize pup puppy inside\n",
            " shy sweet quiet sweet affectionate super shy face guess stop share good guidance support eat play walk sleep trust smart bad\n",
            " frightened anxious smart young spend nervous anxious spend encourage terrified wear harness walk confidently outside experienced patiently encourage trust loud frightened tolerant\n",
            " sweet harsh veterinarian suspect blind puppy plague sickness survive overcome sickness repair blind cause pain discomfort limited vision average smart survive fake newspaper cover cleanly splendid puppy enable healthily\n",
            "target: [69, 1, 11, 34, 56]\n"
          ]
        }
      ]
    },
    {
      "cell_type": "markdown",
      "source": [
        "## **Import Flask libraries**"
      ],
      "metadata": {
        "id": "ZfXWdW65-Hw3"
      }
    },
    {
      "cell_type": "code",
      "source": [
        "!pip install flask-ngrok\n",
        "!pip install flask_cors"
      ],
      "metadata": {
        "id": "AtjUCnJPV1rr",
        "colab": {
          "base_uri": "https://localhost:8080/"
        },
        "outputId": "ecc880ac-db3b-4482-8f24-7e6805048597"
      },
      "execution_count": 1,
      "outputs": [
        {
          "output_type": "stream",
          "name": "stdout",
          "text": [
            "Looking in indexes: https://pypi.org/simple, https://us-python.pkg.dev/colab-wheels/public/simple/\n",
            "Collecting flask-ngrok\n",
            "  Downloading flask_ngrok-0.0.25-py3-none-any.whl (3.1 kB)\n",
            "Requirement already satisfied: Flask>=0.8 in /usr/local/lib/python3.7/dist-packages (from flask-ngrok) (1.1.4)\n",
            "Requirement already satisfied: requests in /usr/local/lib/python3.7/dist-packages (from flask-ngrok) (2.23.0)\n",
            "Requirement already satisfied: Jinja2<3.0,>=2.10.1 in /usr/local/lib/python3.7/dist-packages (from Flask>=0.8->flask-ngrok) (2.11.3)\n",
            "Requirement already satisfied: click<8.0,>=5.1 in /usr/local/lib/python3.7/dist-packages (from Flask>=0.8->flask-ngrok) (7.1.2)\n",
            "Requirement already satisfied: Werkzeug<2.0,>=0.15 in /usr/local/lib/python3.7/dist-packages (from Flask>=0.8->flask-ngrok) (1.0.1)\n",
            "Requirement already satisfied: itsdangerous<2.0,>=0.24 in /usr/local/lib/python3.7/dist-packages (from Flask>=0.8->flask-ngrok) (1.1.0)\n",
            "Requirement already satisfied: MarkupSafe>=0.23 in /usr/local/lib/python3.7/dist-packages (from Jinja2<3.0,>=2.10.1->Flask>=0.8->flask-ngrok) (2.0.1)\n",
            "Requirement already satisfied: urllib3!=1.25.0,!=1.25.1,<1.26,>=1.21.1 in /usr/local/lib/python3.7/dist-packages (from requests->flask-ngrok) (1.24.3)\n",
            "Requirement already satisfied: certifi>=2017.4.17 in /usr/local/lib/python3.7/dist-packages (from requests->flask-ngrok) (2022.9.24)\n",
            "Requirement already satisfied: idna<3,>=2.5 in /usr/local/lib/python3.7/dist-packages (from requests->flask-ngrok) (2.10)\n",
            "Requirement already satisfied: chardet<4,>=3.0.2 in /usr/local/lib/python3.7/dist-packages (from requests->flask-ngrok) (3.0.4)\n",
            "Installing collected packages: flask-ngrok\n",
            "Successfully installed flask-ngrok-0.0.25\n",
            "Looking in indexes: https://pypi.org/simple, https://us-python.pkg.dev/colab-wheels/public/simple/\n",
            "Collecting flask_cors\n",
            "  Downloading Flask_Cors-3.0.10-py2.py3-none-any.whl (14 kB)\n",
            "Requirement already satisfied: Flask>=0.9 in /usr/local/lib/python3.7/dist-packages (from flask_cors) (1.1.4)\n",
            "Requirement already satisfied: Six in /usr/local/lib/python3.7/dist-packages (from flask_cors) (1.15.0)\n",
            "Requirement already satisfied: Jinja2<3.0,>=2.10.1 in /usr/local/lib/python3.7/dist-packages (from Flask>=0.9->flask_cors) (2.11.3)\n",
            "Requirement already satisfied: click<8.0,>=5.1 in /usr/local/lib/python3.7/dist-packages (from Flask>=0.9->flask_cors) (7.1.2)\n",
            "Requirement already satisfied: Werkzeug<2.0,>=0.15 in /usr/local/lib/python3.7/dist-packages (from Flask>=0.9->flask_cors) (1.0.1)\n",
            "Requirement already satisfied: itsdangerous<2.0,>=0.24 in /usr/local/lib/python3.7/dist-packages (from Flask>=0.9->flask_cors) (1.1.0)\n",
            "Requirement already satisfied: MarkupSafe>=0.23 in /usr/local/lib/python3.7/dist-packages (from Jinja2<3.0,>=2.10.1->Flask>=0.9->flask_cors) (2.0.1)\n",
            "Installing collected packages: flask-cors\n",
            "Successfully installed flask-cors-3.0.10\n"
          ]
        }
      ]
    },
    {
      "cell_type": "code",
      "source": [
        "from flask import Flask, jsonify, request, make_response\n",
        "from flask_cors import CORS, cross_origin\n",
        "from flask_ngrok import run_with_ngrok\n",
        "from unicodedata import name\n",
        "from flask import Blueprint, jsonify, request\n",
        "import sqlite3\n",
        "import sys\n",
        "import json"
      ],
      "metadata": {
        "id": "xch-2RqmXNBk"
      },
      "execution_count": 2,
      "outputs": []
    },
    {
      "cell_type": "markdown",
      "source": [
        "## **Initialize the database**"
      ],
      "metadata": {
        "id": "YShr1ZSX_bQA"
      }
    },
    {
      "cell_type": "code",
      "source": [
        "con = sqlite3.connect('database.db')\n",
        "with open('schema.sql') as f:\n",
        "    con.executescript(f.read())\n",
        "cursor = con.cursor()\n",
        "cursor.execute(\"SELECT name FROM sqlite_master WHERE type='table';\")\n",
        "print(cursor.fetchall())\n",
        "cursor.close()\n",
        "con.close()"
      ],
      "metadata": {
        "colab": {
          "base_uri": "https://localhost:8080/"
        },
        "id": "zxMdgm9p_k5i",
        "outputId": "9d452a8b-c7af-4c85-b549-b6961a36f81a"
      },
      "execution_count": 5,
      "outputs": [
        {
          "output_type": "stream",
          "name": "stdout",
          "text": [
            "[('sqlite_sequence',), ('adopter',)]\n"
          ]
        }
      ]
    },
    {
      "cell_type": "markdown",
      "source": [
        "## **Database service**"
      ],
      "metadata": {
        "id": "noDMh8ZP-nBw"
      }
    },
    {
      "cell_type": "code",
      "source": [
        "class Adopter:\n",
        "    adopter_name = ''\n",
        "    password = ''\n",
        "    accomodation = -1 # -1: unknown, 1: hdb, 2: condo\n",
        "    prefer_age_group = -1 # -1: unknown, 1: puppy, 10:middle, 100: old\n",
        "    prefer_gender = -1 # -1: unknown, 1: male, 10: female \n",
        "    personality_preference = \"\" # TEXT description\n",
        "    recommend_dog_index = '' # 2|3|45"
      ],
      "metadata": {
        "id": "hwPbmfcF-RwI"
      },
      "execution_count": 6,
      "outputs": []
    },
    {
      "cell_type": "code",
      "source": [
        "def insert_adopter_to_db(adopter):\n",
        "    conn = get_db_connection()\n",
        "    cursor = conn.cursor()\n",
        "    cursor.execute(\"INSERT INTO adopter (adopter_name, password, accomodation, prefer_age_group, prefer_gender, personality_preference) VALUES (?, ?, ?, ?, ?, ?)\",\n",
        "                   (adopter.adopter_name, adopter.password, adopter.accomodation,adopter.prefer_age_group, adopter.prefer_gender, adopter.personality_preference,))\n",
        "    conn.commit()\n",
        "    cursor.close()\n",
        "    conn.close() \n",
        "\n",
        "def update_preference_to_db(adopter):\n",
        "    conn = get_db_connection()\n",
        "    cursor = conn.cursor()\n",
        "    cursor.execute(\"UPDATE adopter SET accomodation = ?, prefer_age_group = ?, prefer_gender = ?, personality_preference = ?, recommend_dog_index = ? WHERE adopter_name = ?\",\n",
        "                         (adopter.accomodation, adopter.prefer_age_group, adopter.prefer_gender, adopter.personality_preference, adopter.recommend_dog_index, adopter.adopter_name, ))\n",
        "    conn.commit()\n",
        "    cursor.close()\n",
        "    conn.close() \n",
        "\n",
        "def is_adopter_in_db(adopter_name, password):\n",
        "    conn = get_db_connection()\n",
        "    cursor = conn.cursor()\n",
        "    query_result = []\n",
        "    adopter = cursor.execute(\"SELECT * FROM adopter WHERE adopter_name = ? AND password = ?\",\n",
        "                         (adopter_name,password,)).fetchall()\n",
        "    for row in adopter:\n",
        "        query_result.append(list(row))\n",
        "    rowcount = len(adopter)\n",
        "    print ('query_result:', query_result,\" adopter.count:\", rowcount)\n",
        "    conn.commit()\n",
        "    cursor.close()\n",
        "    conn.close()\n",
        "    return rowcount == 1\n",
        "\n",
        "def query_adopter_from_db(adopter_name):\n",
        "    conn = get_db_connection()\n",
        "    cursor = conn.cursor()\n",
        "    query_result = []\n",
        "    execute_result = cursor.execute(\"SELECT * FROM adopter WHERE adopter_name = ?\",\n",
        "                         (adopter_name,)).fetchall()           \n",
        "    query_result = json.dumps([tuple(row) for row in execute_result])\n",
        "    rowcount = cursor.rowcount\n",
        "    cursor.close()\n",
        "    conn.close()\n",
        "    print ('query_result:', query_result,\" adopter count:\", len(execute_result))\n",
        "    return query_result\n",
        "\n",
        "def get_db_connection():\n",
        "    connection = sqlite3.connect('database.db')\n",
        "    connection.row_factory = sqlite3.Row\n",
        "    return connection"
      ],
      "metadata": {
        "id": "z30dDTkx-XYd"
      },
      "execution_count": 54,
      "outputs": []
    },
    {
      "cell_type": "markdown",
      "source": [
        "## **Run the web application**"
      ],
      "metadata": {
        "id": "YdkZEGzb_Apn"
      }
    },
    {
      "cell_type": "code",
      "source": [
        "sys.path.append(r'./')\n",
        "api = Blueprint('api', __name__)\n",
        "\n",
        "@api.route('/hello/<string:name>/')\n",
        "@cross_origin()\n",
        "def say_hello(name):\n",
        "    response = { 'msg': \"Hello {}\".format(name) }\n",
        "    return jsonify(response)\n",
        "\n",
        "@api.route('/recommend/signin', methods=['POST'])\n",
        "@cross_origin(origin='*')\n",
        "def signin():\n",
        "    print('request.method:',request.method)\n",
        "   \n",
        "    data = request.get_data()\n",
        "    request_json = json.loads(data)\n",
        "    print(\"request_json:\", request_json)\n",
        "    adopter_name = request_json['adopter_name']\n",
        "    password = request_json['password']\n",
        "    print (\"adopter_name:\", adopter_name)\n",
        "    if(is_adopter_in_db(adopter_name, password)):  \n",
        "        data = query_adopter_from_db(adopter_name)\n",
        "        print (\"query data:\", data)\n",
        "        result = {'code': 'SU001','data': data}\n",
        "        return jsonify(result)\n",
        "    else:\n",
        "    # The adopter does not exist, return \n",
        "        result = {'code': 'ER001', 'msg': 'Invalid account or password!'}\n",
        "        print (adopter_name, result)\n",
        "        return jsonify(result) \n",
        "\n",
        "@api.after_app_request\n",
        "def after_app_request(response):\n",
        "    response.headers['Access-Control-Allow-Origin'] = '*'\n",
        "    response.headers['Access-Control-Allow-Methods'] = '*'\n",
        "    print('add headers', response)\n",
        "    \n",
        "    return response\n",
        "        \n",
        "@api.route('/recommend/signup', methods=['POST'])\n",
        "def signup():\n",
        "    request_json = request.json\n",
        "    print(\"request_json:\", request_json)\n",
        "    adopter_name = request_json['adopter_name']\n",
        "    password = request_json['password']\n",
        "    if(is_adopter_in_db(adopter_name, password)):\n",
        "    # Dulplicate adopter name is not allowed\n",
        "        print (\"in\")\n",
        "    else:\n",
        "        print ('not in')\n",
        "        adopter = Adopter()\n",
        "        adopter.adopter_name = adopter_name\n",
        "        adopter.password = password\n",
        "        insert_adopter_to_db(adopter)\n",
        "    response = jsonify({\"adopter_name\": adopter_name, \"password\": password})\n",
        "    \n",
        "    print('response', response)\n",
        "    return response\n",
        "\n",
        "@api.route('/recommend/update_preference', methods=['POST'])\n",
        "@cross_origin()\n",
        "def update_preference():\n",
        "    request_json = request.json\n",
        "    adopter = Adopter()\n",
        "    adopter.adopter_name = request_json['adopter_name']\n",
        "    adopter.accomodation = request_json['accomodation']\n",
        "    adopter.prefer_age_group = request_json['prefer_age_group']\n",
        "    adopter.prefer_gender = request_json['prefer_gender']\n",
        "    adopter.personality_preference = request_json['personality_preference']\n",
        "    # invoke Hu Hang's processing\n",
        "    adopter.recommend_dog_index = ' '.join(getTargetDogs(adopter.personality_preference))\n",
        "    print(\"adopter.recommend_dog_index:\", adopter.recommend_dog_index)\n",
        "    result = update_preference_to_db(adopter)\n",
        "    return jsonify(result)\n",
        "\n",
        "def create_app(app_name='SURVEY_API'):\n",
        "    app = Flask(app_name)\n",
        "    app.register_blueprint(api, url_prefix=\"/api\")\n",
        "   # cors = CORS(app, resources={r\"/api/*\": {\"origins\": \"http://localhost:5173\"}})\n",
        "    cors = CORS(app, resources={r\"/api/*\": {\"origins\": \"*\"}})\n",
        "    run_with_ngrok(app)\n",
        "    return app\n",
        "\n",
        "if __name__ == '__main__':\n",
        "    app = create_app()\n",
        "    app.run()\n"
      ],
      "metadata": {
        "colab": {
          "base_uri": "https://localhost:8080/"
        },
        "id": "VJYydpWH_GeG",
        "outputId": "31ba68fe-7dc3-44af-dad6-aba4fb8d50fb"
      },
      "execution_count": 33,
      "outputs": [
        {
          "output_type": "stream",
          "name": "stdout",
          "text": [
            " * Serving Flask app \"SURVEY_API\" (lazy loading)\n",
            " * Environment: production\n",
            "\u001b[31m   WARNING: This is a development server. Do not use it in a production deployment.\u001b[0m\n",
            "\u001b[2m   Use a production WSGI server instead.\u001b[0m\n",
            " * Debug mode: off\n"
          ]
        },
        {
          "output_type": "stream",
          "name": "stderr",
          "text": [
            "INFO:werkzeug: * Running on http://127.0.0.1:5000/ (Press CTRL+C to quit)\n"
          ]
        },
        {
          "output_type": "stream",
          "name": "stdout",
          "text": [
            " * Running on http://9ed5-35-222-97-85.ngrok.io\n",
            " * Traffic stats available on http://127.0.0.1:4040\n"
          ]
        }
      ]
    },
    {
      "cell_type": "code",
      "source": [
        "# (venv) $ python\n",
        "# import requests\n",
        "# headers = {'Content-type': 'application/json'}\n",
        "# body = {'adopter_name': 'Tom', 'password': '123456'}\n",
        "# response = requests.options('http://88f1-35-239-175-96.ngrok.io/api/recommend/signin', json = body, headers=headers)"
      ],
      "metadata": {
        "id": "4JtbVY0y_MC5"
      },
      "execution_count": null,
      "outputs": []
    },
    {
      "cell_type": "markdown",
      "source": [
        "## **Delete the adopter database**"
      ],
      "metadata": {
        "id": "4IuHuMKX_Q3y"
      }
    },
    {
      "cell_type": "code",
      "source": [
        "con = sqlite3.connect('database.db')\n",
        "cursor = con.cursor()\n",
        "cursor.execute(\"DROP TABLE adopter;\")\n",
        "con.close()"
      ],
      "metadata": {
        "id": "R7MruOJd_z0k"
      },
      "execution_count": null,
      "outputs": []
    },
    {
      "cell_type": "markdown",
      "source": [
        "## **Test database**"
      ],
      "metadata": {
        "id": "c_LZNcUU-lgK"
      }
    },
    {
      "cell_type": "code",
      "source": [
        "adopter = Adopter()\n",
        "adopter.adopter_name = 'Tom3'\n",
        "adopter.password = '123456'\n",
        "adopter.accomodation = '0'\n",
        "adopter.prefer_age_group = 11\n",
        "adopter.prefer_gender = 11\n",
        "adopter.personality_preference = \"I like a friendly dog\"\n",
        "insert_adopter_to_db(adopter)"
      ],
      "metadata": {
        "id": "jmgM0hZO-hAo"
      },
      "execution_count": 28,
      "outputs": []
    },
    {
      "cell_type": "code",
      "source": [
        "result  = query_adopter_from_db('Tom3')\n",
        "print (result)"
      ],
      "metadata": {
        "id": "5CE9TMGL-uT1",
        "colab": {
          "base_uri": "https://localhost:8080/"
        },
        "outputId": "01284733-adab-43b2-8705-d681a087b249"
      },
      "execution_count": 55,
      "outputs": [
        {
          "output_type": "stream",
          "name": "stdout",
          "text": [
            "query_result: [[3, \"Tom3\", \"123456\", 0, 11, 11, \"I like a smart dog\", \"69 1 11 34 56\"]]  adopter count: 1\n",
            "[[3, \"Tom3\", \"123456\", 0, 11, 11, \"I like a smart dog\", \"69 1 11 34 56\"]]\n"
          ]
        }
      ]
    },
    {
      "cell_type": "code",
      "source": [
        "result  = is_adopter_in_db('Tom2', '123456')\n",
        "print( result )"
      ],
      "metadata": {
        "id": "e7wtML9O-y3C"
      },
      "execution_count": null,
      "outputs": []
    },
    {
      "cell_type": "code",
      "source": [
        "adopter.personality_preference = \"I like a smart dog\"\n",
        "tartget_dogs = getTargetDogs(adopter.personality_preference)\n",
        "\n",
        "adopter.recommend_dog_index = ' '.join(map(str, tartget_dogs))\n",
        "print(\"adopter.recommend_dog_index:\", adopter.recommend_dog_index)\n",
        "update_preference_to_db(adopter)"
      ],
      "metadata": {
        "id": "gj5MOHcw-1LO",
        "colab": {
          "base_uri": "https://localhost:8080/"
        },
        "outputId": "c60f968d-627f-4422-ca9a-ea37fb3c197b"
      },
      "execution_count": 46,
      "outputs": [
        {
          "output_type": "stream",
          "name": "stdout",
          "text": [
            "71\n",
            "['smart']\n",
            "72\n",
            "['smart ', ' absolute darling food take medicine food aggression starve point confident trust independent separation anxiety company story able smiley face', ' tip tiny bit smart unfamiliar pretend calm fine cool pup mesmerize pup puppy inside', ' eat handfeed meal eat fearful take trust cheer confidence', ' ash young mum hard gentle nurture soul shine quiet thoughtful smooch happily trick caring compassionate confidence understand bit shy ideal child pet perfect companion quiet friendly pet good manner ash pup bail pound save euthanize petite size perfect ash great compassion shy young mum proud irresistibly adorable pup nervous doggie timid nature encounter warm low maintenance gentle opportunity explore perfect companion furry chill petite size sharp feature narrow bridge large pointy ash shiny beauty throw curveball shyness noticed easily forget long special true affectionate beauty lie beauty lie', ' long aggressive threaten attack fear change enjoy walk enjoy affection company good toddler small young child', ' submissive shy crave companion peek patiently wait food shy timid bad warm cut solitary figure parking commercial compound ang mo kio dart everyday gardener office staff witness deliver pup conscientious hide pup harm ensure hungry throw food eat challenge food danger pup run difficult baby chase escape gentle little warm', ' break survive heal mend walk learning trust low maintenance easily contend frequent walk sweet sensitive attention diamond rose blossom ordinary extraordinary pal', ' cuddly curious little cautious joy bravely finish heartworm ready beauty cuddle attention little curious outside loud patient work confidence walk couch snuggle', ' loyal friendly nervous surrender lovely loyal anxious surrender allegedly bite suggest bit possessive child behaviour walk behaviour result frightened loud happen outside patient resettle', ' crush death machinery mild natured perfect kid', ' sociable friendly relaxed sweet independent lose captain naturally little lose good enjoy explore stretch relaxed perfect companion curl couch captain truly offer', ' shy sweet quiet sweet affectionate super shy face guess stop share good guidance support eat play walk sleep trust smart bad', ' bubbly young worker big size spaniel play fetch long run stroll work enjoy company young mind little cheeky appreciate firm good little scar damage destroy true beauty guess small pretty enchant', ' jurong island caregiver loving interactive take warm cataract little insecure gotten line sweet willing past insecurity warm', ' handicap low spine cripple waist crawl chest drag painfully rough gravel spot jurong island hard food swallow gravel pin alleviate gnaw hunger hard baby fate change mr kind muslim work attention changed clearly enjoy lease unfortunate episode threaten away chest infection haze blockage brave valiantly admirably warrior condition wobbly unable control poo acupuncture hydrotherapy able walk normally bundle joy good fortune sweet natured fun playful puppy proper deserve', ' approx outram long terrified pup walk confidently leash scritche play crazy sis run shy take warm pup pup gentle sniff situation quickly nervous energy nervous shy away aggressive good adult child sible speed play chill snooze away overall behave sweet quick learner rough mama blind slow hbd patient dedication structure lovely', ' beauty face beauty cut kind thick thin pregnancy fire warm lose process destination embark lifetime fun fact alfa', ' sweet shy nervous lifetime horrifying condition chain cage entire save chain action comfortable indoor outdoors expect sweet walk harness leash patient world scary deserve', ' good shy indoor avs catcher petrify take warm quiet gentle calm nature leash walk willing indoor walk leash', ' quiet timid kind gentle dame sweet friendly enjoy outside senior outdoors pleasure walk trot alongside patiently take stop lose good dandy pass away originally trap golden wait long', ' recent batch jurong island shy warm rub kangaroo leash kangaroo lead afraid leash', ' comfortable easily win', ' shy excellent comfortable walk leash', ' mini sized mongrel super cute face nice shade friendly wag welcome walk leash moment expect confidence quickly quickly petite size sweet careful install window grill agile climb scale er enclosure fence', ' attention loiter trap neuter release feedback run road matter gets sterilization spay fearful clinic cage surprisingly arrive appear fairly relaxed wag show sign aggression leash matter important wander', ' quiet shy sweet gorgeous affectionate kind share son company gentle confident cuddle enjoy walk outdoor adventure walk leash pace calm support senior', ' confident dare explore afraid photo angel cute choose mean peace safety italian lord enable save', ' wonderful walking partner tv experienced dedicated single fear hide good kid kid walk outdoor gentle cuddle good swim roll mud play charming doggie selective adapt walk healthy outdoor', ' beautiful young energy active playful great outdoors', ' affectionate charm gaze smooth wavy lock raise safe take walk terrify rainy display fear aggression apartment living send work trust safe company foreign', ' gentle chill good warm friendly face gentle calm good ride confidence easily walk patient young kid', ' wander aimlessly toa payoh save authority loom lasso ready capture kind scoop hesitation run irresponsible dirty bite bug cause problem cite oh disease bite bug cure world alright shall nap imply total sweet', ' hide weak emaciate quickly medley infect blotchy urinate urinary tract infection uti barely ray suggest moment poorly hospital regain strength discharge course complete uti bright pass able face tale sign tough hard remain sweet gentle proper hopeful good consider deserve keen senior write', ' mean good good pup calm gentle settle smile wide pass wagging tough pup yound safe run scavage food', ' frightened anxious smart young spend nervous anxious spend encourage terrified wear harness walk confidently outside experienced patiently encourage trust loud frightened tolerant', ' passionate active enjoy outside walk run rough wrestling constantly ask affection enjoy good belly rub roll ask strong leash good experienced active lifestyle', ' charming sweet friendly move cheerful resilient living beautiful stop visitor track', ' shy disposition trust confident companion assurance venture break fuss free walk good roll', ' friendly affectionate company', ' shy warm food motivated peepad aggression walk leash long settle', ' shy break gentle enjoy tender blossom wonderful companion', ' quiet low maintainance food motivated affectionate matured active walk small cosy temperament fact easy walk timer consider unit friendly', ' shy hesitant trust affection', ' quiet super sweet little shy good food motivate walk leash', ' gentle mild mannered independent enjoy lounge walk leash calm walk enjoy greenery prefer walk pace', ' cute small walk leash', ' result intentional hill coordinate round hill pup hiding pup hour mean strength not impressive photo cow spot shade adorable gorgeous shy gentle warm easily', ' reflect foxy pierce beautiful small curly bushy calm walk little shy newly', ' sweet food motivate walk leash sociable', ' trailer lose scatter hide tiny gap tyre slow tiny run safety arise trailer move matter particular trailer move crush brim affectionate playful inquisitive teachable', ' term overly friendly face enthusiastically jump hate dependent type character walk leash listen scold business walk', ' fish emaciate small food water provide deny say fish food gobble immediately ask away agree fearful social till protective food starve long', ' sweet small sized badly matted condition mild gentle shave arrival inside gum possible tie nature bind waist abuse homeless case', ' existence miraculous happening capture limp disappear long reappear emaciate die survive limp completely restore abnormality walk', ' pretty fast food drink sweet making', ' noami timid settle walk play abit wear physically obviously smooth scar special scar good curious meaningful tug noami', ' sweet harsh veterinarian suspect blind puppy plague sickness survive overcome sickness repair blind cause pain discomfort limited vision average smart survive fake newspaper cover cleanly splendid puppy enable healthily', ' play young popular fun tolerant shy face hide little bit sensitve gentle rough', ' quiet independent gentle shy aggression observe timid lovely shy little mth baby adapt world work display sign aggression blossom tender', ' aggression good unfamiliar face walk leash spend explore curiously walk leash surrounding slowly', ' sign aggression sweet natured training boarding share condition boarding good living condition furry baby provide typically high survival instinct escape artist alertness leash leash training break leash escape show aggression sweet temperament confident excel', ' friendly carefree able run fishfarm change caregiver unwilling intention sterilize chew hole cage run gotten injure seek round calm content safe', ' comfortable presence avoid squirm away interact warm realize harm', ' sweet warm fairly quickly warm affectionate enjoy neck scratch food motivate', ' exuberant little enthused walk', ' sterilize trap puppy authority complaint meek afraid heartworm concurrently warm heartworm', ' roam suspect pad anxious small willingly crate seek refuge great low energy enjoy take slow walk little hard hearing raise voice slowly hang sense dull cataract pretty sharp food forage food food remain rubbish spite rough healthy work weak severely malnourish walk wag hop meal walk keen senior permanent', ' shy take observe quietly slowly okay meal hopefully opportunity comfortable', ' real cutie pie warm whine excitedly walk leash outside confidence take blossom brave loving', ' free spirited enjoy freedom complaint smart careful bond teach walk leash chew leash worried lose', ' stuck swamp alert kind sight spot howl trouble scavenge food assume wit safety quickly obvious discomfort pain snarl aggressively sweet pain cope able prop enjoy walk review schedule good recovery comfortable']\n",
            "(72, 713)\n",
            "[69, 1, 11, 34, 56]\n",
            "[0.22034329501966915, 0.21111064713868025, 0.20571434291313911, 0.153124429610676, 0.12923316151858005]\n",
            " free spirited enjoy freedom complaint smart careful bond teach walk leash chew leash worried lose\n",
            " tip tiny bit smart unfamiliar pretend calm fine cool pup mesmerize pup puppy inside\n",
            " shy sweet quiet sweet affectionate super shy face guess stop share good guidance support eat play walk sleep trust smart bad\n",
            " frightened anxious smart young spend nervous anxious spend encourage terrified wear harness walk confidently outside experienced patiently encourage trust loud frightened tolerant\n",
            " sweet harsh veterinarian suspect blind puppy plague sickness survive overcome sickness repair blind cause pain discomfort limited vision average smart survive fake newspaper cover cleanly splendid puppy enable healthily\n",
            "adopter.recommend_dog_index: 69 1 11 34 56\n"
          ]
        }
      ]
    }
  ]
}